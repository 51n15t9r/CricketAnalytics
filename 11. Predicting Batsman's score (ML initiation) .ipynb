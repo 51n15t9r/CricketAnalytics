{
 "cells": [
  {
   "cell_type": "code",
   "execution_count": 1,
   "id": "61501e2f",
   "metadata": {},
   "outputs": [],
   "source": [
    "# Basics\n",
    "import pandas as pd\n",
    "import matplotlib.pyplot as plt\n",
    "import numpy as np\n",
    "import ipywidgets as widgets\n",
    "\n",
    "# Trying out a bunch of things. \n",
    "from sklearn.model_selection import train_test_split\n",
    "from sklearn.linear_model import LinearRegression\n",
    "from sklearn.linear_model import PoissonRegressor\n",
    "from sklearn.metrics import mean_absolute_error\n",
    "from sklearn.ensemble import RandomForestRegressor\n",
    "from sklearn.tree import DecisionTreeRegressor\n",
    "from sklearn.naive_bayes import GaussianNB\n",
    "\n",
    "from sklearn.linear_model import LogisticRegression\n",
    "from sklearn.ensemble import RandomForestClassifier\n",
    "from sklearn.naive_bayes import GaussianNB\n",
    "\n",
    "from sklearn import metrics\n",
    "from sklearn.metrics import precision_score\n",
    "from sklearn.metrics import recall_score\n",
    "from sklearn.metrics import accuracy_score\n",
    "from sklearn.metrics import f1_score\n",
    "\n",
    "from sklearn.preprocessing import LabelEncoder\n",
    "\n",
    "#Maths \n",
    "from numpy import absolute\n",
    "from numpy import mean\n",
    "from numpy import std\n",
    "\n",
    "#Visalization\n",
    "from matplotlib import pyplot as plt\n",
    "import seaborn as sns\n",
    "\n",
    "# Clean up options\n",
    "import warnings\n",
    "warnings.filterwarnings('ignore')\n",
    "pd.set_option(\"display.precision\", 2)"
   ]
  },
  {
   "cell_type": "code",
   "execution_count": 2,
   "id": "9689eb14",
   "metadata": {},
   "outputs": [],
   "source": [
    "# Read All IPL Data\n",
    "deliveres = pd.read_csv(\"C:/Users/utkar/OneDrive/Desktop/Analytics/Data/IPL Ball-by-Ball 2008-2020.csv\")\n",
    "matches = pd.read_csv(\"C:/Users/utkar/OneDrive/Desktop/Analytics/Data/IPL Matches 2008-2020.csv\")\n",
    "# Populated with data from cricinfo for bowlers who have bowled in atleasst 10 matches\n",
    "# bowler_data = pd.read_csv(\"C:/Users/utkar/OneDrive/Desktop/Analytics/Data/Bowlers.csv\")\n",
    "\n",
    "del_df = deliveres.copy()\n",
    "# del_df = del_df[del_df.id >= 980901]\n",
    "match_df = matches.copy()\n",
    "# match_df = match_df[match_df.id >= 980901]"
   ]
  },
  {
   "cell_type": "code",
   "execution_count": 3,
   "id": "1b73cd31",
   "metadata": {},
   "outputs": [],
   "source": [
    "# batsman_df = del_df[del_df.batsman == selected_batsman]\n",
    "batsman_df = del_df\n",
    "comb = pd.merge(batsman_df, match_df, on = 'id', how='left')"
   ]
  },
  {
   "cell_type": "code",
   "execution_count": 4,
   "id": "290b60f2",
   "metadata": {},
   "outputs": [],
   "source": [
    "comb = comb.drop([\"non_striker\", \"extra_runs\", \"total_runs\" , 'batting_team', 'non_boundary' , 'dismissal_kind' , 'fielder' , 'extras_type' , 'city' , 'date' , 'player_of_match' , 'neutral_venue' , 'team1' , 'team2' , 'toss_winner' , 'toss_decision' , 'winner' , 'result' , 'result_margin' , 'eliminator' , 'method' , 'umpire1' , 'umpire2'], axis=1)"
   ]
  },
  {
   "cell_type": "code",
   "execution_count": 5,
   "id": "83c55b0e",
   "metadata": {},
   "outputs": [],
   "source": [
    "tmpRuns = pd.DataFrame(comb.groupby(['id', 'batsman']).batsman_runs.sum()).rename(columns = {'batsman_runs' : 'totalRuns'}).reset_index()\n",
    "tmpBalls = pd.DataFrame(comb.groupby(['id', 'batsman']).batsman_runs.count()).rename(columns = {'batsman_runs' : 'totalBalls'}).reset_index()"
   ]
  },
  {
   "cell_type": "code",
   "execution_count": 6,
   "id": "27ce097d",
   "metadata": {},
   "outputs": [],
   "source": [
    "comb = comb.loc[:, ~comb.columns.str.contains('^Unnamed')]"
   ]
  },
  {
   "cell_type": "code",
   "execution_count": 7,
   "id": "52c45299",
   "metadata": {},
   "outputs": [],
   "source": [
    "comb = pd.merge(comb, tmpRuns, how = 'left' , left_on = ['id','batsman'], right_on = ['id','batsman'])\n",
    "comb = pd.merge(comb, tmpBalls, how = 'left' , left_on = ['id','batsman'], right_on = ['id','batsman']).reset_index(drop=True)\n",
    "\n",
    "OversLeftAtEntry = pd.DataFrame(20 - comb.groupby(['id' , 'batsman']).over.min()).rename(columns = {'over' : 'oversLeft'}).reset_index()\n",
    "\n",
    "comb = comb.drop(['over' , 'ball' , 'batsman_runs', 'player_dismissed', 'bowler' , 'is_wicket'] , axis=1)\n",
    "comb = comb.drop_duplicates().reset_index(drop=True)"
   ]
  },
  {
   "cell_type": "code",
   "execution_count": 8,
   "id": "5890596c",
   "metadata": {},
   "outputs": [],
   "source": [
    "comb = pd.merge(comb, OversLeftAtEntry, how = 'left' , left_on = ['id','batsman'], right_on = ['id','batsman'])"
   ]
  },
  {
   "cell_type": "code",
   "execution_count": 9,
   "id": "7c413343",
   "metadata": {},
   "outputs": [],
   "source": [
    "comb['index_col'] = comb.index\n",
    "\n",
    "AvgRuns = pd.DataFrame(comb.groupby(['batsman'])['totalRuns'].rolling(2, min_periods =1).mean()).reset_index().rename(columns = {'level_1' : 'index'})\n",
    "\n",
    "AvgRuns.columns = ['batsman' , 'index_col' , 'RollingAvg']\n",
    "\n",
    "comb = comb.merge(AvgRuns[['index_col' , 'RollingAvg']] , on='index_col')\n",
    "\n",
    "comb = comb.drop(['index_col'], axis=1)"
   ]
  },
  {
   "cell_type": "code",
   "execution_count": 10,
   "id": "ea7ce029",
   "metadata": {},
   "outputs": [],
   "source": [
    "comb['matchesAgainstOpposition'] = comb.groupby(['batsman' , 'bowling_team']).id.cumcount() + 1\n",
    "comb['matchesAtVenue'] = comb.groupby(['batsman' , 'venue']).id.cumcount() + 1\n",
    "\n",
    "comb['runsAgainstOppostion'] = comb.groupby(['batsman' , 'bowling_team']).totalRuns.cumsum()\n",
    "comb['runsAtVenue'] = comb.groupby(['batsman' , 'venue']).totalRuns.cumsum()\n",
    "\n",
    "comb['AvgAgainstOpposition'] = comb.apply(lambda x: x['runsAgainstOppostion'] / x['matchesAgainstOpposition'] , axis=1)\n",
    "comb['AvgAtVenue'] = comb.apply(lambda x: x['runsAtVenue'] / x['matchesAtVenue'] , axis=1)\n",
    "\n",
    "comb['RunBucket'] = comb.apply(lambda x: (x['totalRuns'] // 25) + 1, axis=1)\n",
    "comb['RunBucket'] = comb['RunBucket'].apply(lambda x: 5 if x>=5 else x)"
   ]
  },
  {
   "cell_type": "code",
   "execution_count": 11,
   "id": "e4001b55",
   "metadata": {},
   "outputs": [],
   "source": [
    "# creating instance of labelencoder\n",
    "labelencoder = LabelEncoder()\n",
    "# Assigning numerical values and storing in another column\n",
    "comb['batsman_cat'] = labelencoder.fit_transform(comb['batsman'])"
   ]
  },
  {
   "cell_type": "code",
   "execution_count": 12,
   "id": "cad96471",
   "metadata": {},
   "outputs": [
    {
     "data": {
      "image/png": "[encoded data removed]",
      "text/plain": [
       "<Figure size 2160x1296 with 2 Axes>"
      ]
     },
     "metadata": {
      "needs_background": "light"
     },
     "output_type": "display_data"
    }
   ],
   "source": [
    "# Plot a correlation Heat Map \n",
    "\n",
    "fig, ax = plt.subplots(figsize=(30, 18))\n",
    "corr = comb.drop(labels = ['id'] , axis=1).corr()\n",
    "\n",
    "\n",
    "myMask = np.zeros_like(corr)\n",
    "myMask[np.triu_indices_from(myMask)] = True\n",
    "\n",
    "colormap = sns.light_palette((260, 75, 60), input=\"husl\")\n",
    "\n",
    "sns.heatmap(corr, cmap=colormap, linewidths=.5, annot=True, fmt=\".2f\", mask=myMask)\n",
    "plt.title('Runs - Features Correlations')\n",
    "\n",
    "plt.show()"
   ]
  },
  {
   "cell_type": "markdown",
   "id": "b2112863",
   "metadata": {},
   "source": [
    "### Predicting Batsman's score based on above metrics"
   ]
  },
  {
   "cell_type": "code",
   "execution_count": 13,
   "id": "b5b73098",
   "metadata": {},
   "outputs": [],
   "source": [
    "# Choosing Features \n",
    "x = comb.drop(labels = ['id' , 'inning' , 'totalRuns', 'batsman' , 'totalBalls' , 'bowling_team' , 'venue', 'matchesAgainstOpposition' , 'matchesAtVenue' , 'runsAgainstOppostion' , 'runsAtVenue', 'RunBucket'], axis=1)\n",
    "\n",
    "# We need prediction for Total Runs, always. So this is fixed \n",
    "y = comb['totalRuns'].values\n",
    "\n",
    "# Split the data into test/train - 70/30 \n",
    "x_train , x_test , y_train , y_test = train_test_split(x , y, test_size = 0.3 , random_state = 42)"
   ]
  },
  {
   "cell_type": "code",
   "execution_count": 14,
   "id": "f32281b0",
   "metadata": {},
   "outputs": [
    {
     "name": "stdout",
     "output_type": "stream",
     "text": [
      "0.7029425755888625\n",
      "0.685146235225556\n"
     ]
    },
    {
     "data": {
      "text/plain": [
       "8.33557773538733"
      ]
     },
     "execution_count": 14,
     "metadata": {},
     "output_type": "execute_result"
    }
   ],
   "source": [
    "# Linear Regressor \n",
    "linear_regressor = LinearRegression()\n",
    "linear_regressor.fit(x_train, y_train)\n",
    "\n",
    "print(linear_regressor.score(x_train, y_train))\n",
    "y_pred = linear_regressor.predict(x_test)\n",
    "print(linear_regressor.score(x_test, y_test))\n",
    "mean_absolute_error(y_test, y_pred)"
   ]
  },
  {
   "cell_type": "code",
   "execution_count": 15,
   "id": "ab280ee0",
   "metadata": {},
   "outputs": [
    {
     "name": "stdout",
     "output_type": "stream",
     "text": [
      "0.571840791380527\n",
      "0.5771198766352423\n"
     ]
    },
    {
     "data": {
      "text/plain": [
       "9.789795654020008"
      ]
     },
     "execution_count": 15,
     "metadata": {},
     "output_type": "execute_result"
    }
   ],
   "source": [
    "# Poisson Regressor \n",
    "# debug this - not looking correct \n",
    "poisson_regressor = PoissonRegressor()\n",
    "poisson_regressor.fit(x_train, y_train)\n",
    "\n",
    "print(poisson_regressor.score(x_train, y_train))\n",
    "y_pred = poisson_regressor.predict(x_test)\n",
    "print(poisson_regressor.score(x_test, y_test))\n",
    "mean_absolute_error(y_test, y_pred)"
   ]
  },
  {
   "cell_type": "code",
   "execution_count": 16,
   "id": "12f93f3b",
   "metadata": {},
   "outputs": [
    {
     "name": "stdout",
     "output_type": "stream",
     "text": [
      "0.9652274429252371\n",
      "0.7282287197610953\n"
     ]
    },
    {
     "data": {
      "text/plain": [
       "6.627599342285558"
      ]
     },
     "execution_count": 16,
     "metadata": {},
     "output_type": "execute_result"
    }
   ],
   "source": [
    "# Random Forest Regressor\n",
    "rdf_regressor = RandomForestRegressor(n_estimators=100,max_features=None)\n",
    "rdf_regressor.fit(x_train,y_train)\n",
    "\n",
    "print(rdf_regressor.score(x_train,y_train))\n",
    "y_pred = rdf_regressor.predict(x_test)\n",
    "print(rdf_regressor.score(x_test,y_test))\n",
    "mean_absolute_error(y_test, y_pred)"
   ]
  },
  {
   "cell_type": "code",
   "execution_count": 17,
   "id": "14fda7fd",
   "metadata": {},
   "outputs": [
    {
     "name": "stdout",
     "output_type": "stream",
     "text": [
      "0.09972982497356983\n",
      "0.09345026034530009\n"
     ]
    },
    {
     "data": {
      "text/plain": [
       "11.183337900794738"
      ]
     },
     "execution_count": 17,
     "metadata": {},
     "output_type": "execute_result"
    }
   ],
   "source": [
    "# GaussianNB\n",
    "nb_model=GaussianNB()\n",
    "nb_model.fit(x_train,y_train)\n",
    "\n",
    "print(nb_model.score(x_train,y_train))\n",
    "y_pred=nb_model.predict(x_test)\n",
    "print(nb_model.score(x_test,y_test))\n",
    "mean_absolute_error(y_test, y_pred)"
   ]
  },
  {
   "cell_type": "code",
   "execution_count": 18,
   "id": "078c098c",
   "metadata": {},
   "outputs": [
    {
     "name": "stdout",
     "output_type": "stream",
     "text": [
      "1.0\n",
      "0.4655872222952341\n"
     ]
    },
    {
     "data": {
      "text/plain": [
       "8.995615237051247"
      ]
     },
     "execution_count": 18,
     "metadata": {},
     "output_type": "execute_result"
    }
   ],
   "source": [
    "# Decision Tree\n",
    "dt_regressor = DecisionTreeRegressor(criterion='mse', splitter='best',\n",
    "                             max_depth=None, min_samples_split=2,\n",
    "                             min_samples_leaf=1, min_weight_fraction_leaf=0.0,\n",
    "                             max_features=None, random_state=None,\n",
    "                             max_leaf_nodes=None, min_impurity_decrease=0.0, \n",
    "                             min_impurity_split=None, \n",
    "                             ccp_alpha=0.0)\n",
    "\n",
    "\n",
    "dt_regressor.fit(x_train,y_train)\n",
    "\n",
    "print(dt_regressor.score(x_train,y_train))\n",
    "y_pred=dt_regressor.predict(x_test)\n",
    "print(dt_regressor.score(x_test,y_test))\n",
    "mean_absolute_error(y_test, y_pred)"
   ]
  },
  {
   "cell_type": "code",
   "execution_count": 19,
   "id": "490cfed3",
   "metadata": {},
   "outputs": [
    {
     "data": {
      "text/html": [
       "<div>\n",
       "<style scoped>\n",
       "    .dataframe tbody tr th:only-of-type {\n",
       "        vertical-align: middle;\n",
       "    }\n",
       "\n",
       "    .dataframe tbody tr th {\n",
       "        vertical-align: top;\n",
       "    }\n",
       "\n",
       "    .dataframe thead th {\n",
       "        text-align: right;\n",
       "    }\n",
       "</style>\n",
       "<table border=\"1\" class=\"dataframe\">\n",
       "  <thead>\n",
       "    <tr style=\"text-align: right;\">\n",
       "      <th></th>\n",
       "      <th>oversLeft</th>\n",
       "      <th>RollingAvg</th>\n",
       "      <th>AvgAgainstOpposition</th>\n",
       "      <th>AvgAtVenue</th>\n",
       "      <th>batsman_cat</th>\n",
       "    </tr>\n",
       "  </thead>\n",
       "  <tbody>\n",
       "    <tr>\n",
       "      <th>8496</th>\n",
       "      <td>13</td>\n",
       "      <td>15.0</td>\n",
       "      <td>10.4</td>\n",
       "      <td>13.00</td>\n",
       "      <td>460</td>\n",
       "    </tr>\n",
       "    <tr>\n",
       "      <th>4046</th>\n",
       "      <td>19</td>\n",
       "      <td>25.0</td>\n",
       "      <td>29.0</td>\n",
       "      <td>31.89</td>\n",
       "      <td>379</td>\n",
       "    </tr>\n",
       "    <tr>\n",
       "      <th>8296</th>\n",
       "      <td>10</td>\n",
       "      <td>5.5</td>\n",
       "      <td>28.0</td>\n",
       "      <td>11.50</td>\n",
       "      <td>115</td>\n",
       "    </tr>\n",
       "  </tbody>\n",
       "</table>\n",
       "</div>"
      ],
      "text/plain": [
       "      oversLeft  RollingAvg  AvgAgainstOpposition  AvgAtVenue  batsman_cat\n",
       "8496         13        15.0                  10.4       13.00          460\n",
       "4046         19        25.0                  29.0       31.89          379\n",
       "8296         10         5.5                  28.0       11.50          115"
      ]
     },
     "execution_count": 19,
     "metadata": {},
     "output_type": "execute_result"
    }
   ],
   "source": [
    "x_test.head(3)"
   ]
  },
  {
   "cell_type": "code",
   "execution_count": 20,
   "id": "b632f56e",
   "metadata": {},
   "outputs": [],
   "source": [
    "def predict_score(df, oversLeft, RollingAvg, AvgAgainstOpposition, AvgAtVenue, batsman): \n",
    "    \n",
    "    print(\"OversLeft = \" + str(oversLeft))\n",
    "    print(\"RollingAvg = \" + str(RollingAvg))\n",
    "    print(\"AvgAgainstOpposition = \" + str(AvgAgainstOpposition))\n",
    "    print(\"AvgAtVenue = \" + str(AvgAtVenue))\n",
    "    print(\"batsman = \" + str(batsman))\n",
    "    print()\n",
    "    \n",
    "    test_input = [[ oversLeft, RollingAvg, AvgAgainstOpposition, AvgAtVenue, batsman]]\n",
    "    \n",
    "    # print(test_input)\n",
    "    print (\"Linear Regression Prediction - \" + str(linear_regressor.predict(test_input)))\n",
    "    print (\"Poisson Regression Prediction - \" + str(poisson_regressor.predict(test_input)))\n",
    "    print (\"Random Forest Regression Prediction - \" + str(rdf_regressor.predict(test_input)))\n",
    "    print (\"Gaussian Prediction - \" + str(nb_model.predict(test_input)))\n",
    "    print (\"Decision Tree Regression Prediction - \" + str(dt_regressor.predict(test_input)))\n",
    "    \n",
    "    real = df[(df.batsman_cat == batsman) & (df.oversLeft == oversLeft) & (df.AvgAgainstOpposition == AvgAgainstOpposition)].totalRuns.sum()\n",
    "    print(\"Real output - \" , str(real))"
   ]
  },
  {
   "cell_type": "code",
   "execution_count": 21,
   "id": "ce32eceb",
   "metadata": {},
   "outputs": [
    {
     "name": "stdout",
     "output_type": "stream",
     "text": [
      "OversLeft = 16\n",
      "RollingAvg = 41.5\n",
      "AvgAgainstOpposition = 35.48\n",
      "AvgAtVenue = 30.62\n",
      "batsman = 505\n",
      "\n",
      "Linear Regression Prediction - [41.55144891]\n",
      "Poisson Regression Prediction - [33.44126199]\n",
      "Random Forest Regression Prediction - [51.54]\n",
      "Gaussian Prediction - [52]\n",
      "Decision Tree Regression Prediction - [50.]\n",
      "Real output -  50\n"
     ]
    }
   ],
   "source": [
    "# Get a Prediction from all models for same data for comparison\n",
    "predict_score(comb, 16, 41.5, 35.48, 30.62 , 505)"
   ]
  },
  {
   "cell_type": "markdown",
   "id": "dd6cd3f3",
   "metadata": {},
   "source": [
    "### Predicting batsman's score range using Classification Algorithms"
   ]
  },
  {
   "cell_type": "code",
   "execution_count": 22,
   "id": "2c5d8600",
   "metadata": {},
   "outputs": [],
   "source": [
    "# Choosing Features \n",
    "x = comb.drop(labels = ['id' , 'inning' , 'batsman' , 'totalRuns', 'bowling_team' , 'venue', 'RunBucket', 'totalBalls' , 'matchesAgainstOpposition' , 'matchesAtVenue' , 'runsAgainstOppostion' , 'runsAtVenue'], axis=1)\n",
    "\n",
    "# We need prediction for Run Buckets, always. So this is fixed \n",
    "y = comb['RunBucket'].values\n",
    "\n",
    "\n",
    "# Split the data into test/train - 70/30 \n",
    "x_train , x_test , y_train , y_test = train_test_split(x , y, test_size = 0.3 , random_state = 0)"
   ]
  },
  {
   "cell_type": "code",
   "execution_count": 23,
   "id": "72a34351",
   "metadata": {},
   "outputs": [
    {
     "data": {
      "text/html": [
       "<div>\n",
       "<style scoped>\n",
       "    .dataframe tbody tr th:only-of-type {\n",
       "        vertical-align: middle;\n",
       "    }\n",
       "\n",
       "    .dataframe tbody tr th {\n",
       "        vertical-align: top;\n",
       "    }\n",
       "\n",
       "    .dataframe thead th {\n",
       "        text-align: right;\n",
       "    }\n",
       "</style>\n",
       "<table border=\"1\" class=\"dataframe\">\n",
       "  <thead>\n",
       "    <tr style=\"text-align: right;\">\n",
       "      <th></th>\n",
       "      <th>oversLeft</th>\n",
       "      <th>RollingAvg</th>\n",
       "      <th>AvgAgainstOpposition</th>\n",
       "      <th>AvgAtVenue</th>\n",
       "      <th>batsman_cat</th>\n",
       "    </tr>\n",
       "  </thead>\n",
       "  <tbody>\n",
       "    <tr>\n",
       "      <th>5762</th>\n",
       "      <td>6</td>\n",
       "      <td>18.5</td>\n",
       "      <td>8.4</td>\n",
       "      <td>10.72</td>\n",
       "      <td>179</td>\n",
       "    </tr>\n",
       "    <tr>\n",
       "      <th>8179</th>\n",
       "      <td>6</td>\n",
       "      <td>30.5</td>\n",
       "      <td>30.5</td>\n",
       "      <td>13.00</td>\n",
       "      <td>209</td>\n",
       "    </tr>\n",
       "    <tr>\n",
       "      <th>4296</th>\n",
       "      <td>20</td>\n",
       "      <td>48.5</td>\n",
       "      <td>42.5</td>\n",
       "      <td>84.00</td>\n",
       "      <td>42</td>\n",
       "    </tr>\n",
       "    <tr>\n",
       "      <th>541</th>\n",
       "      <td>14</td>\n",
       "      <td>44.0</td>\n",
       "      <td>31.0</td>\n",
       "      <td>28.00</td>\n",
       "      <td>125</td>\n",
       "    </tr>\n",
       "    <tr>\n",
       "      <th>9403</th>\n",
       "      <td>4</td>\n",
       "      <td>0.5</td>\n",
       "      <td>0.0</td>\n",
       "      <td>0.00</td>\n",
       "      <td>346</td>\n",
       "    </tr>\n",
       "  </tbody>\n",
       "</table>\n",
       "</div>"
      ],
      "text/plain": [
       "      oversLeft  RollingAvg  AvgAgainstOpposition  AvgAtVenue  batsman_cat\n",
       "5762          6        18.5                   8.4       10.72          179\n",
       "8179          6        30.5                  30.5       13.00          209\n",
       "4296         20        48.5                  42.5       84.00           42\n",
       "541          14        44.0                  31.0       28.00          125\n",
       "9403          4         0.5                   0.0        0.00          346"
      ]
     },
     "execution_count": 23,
     "metadata": {},
     "output_type": "execute_result"
    }
   ],
   "source": [
    "x_test.head(5)"
   ]
  },
  {
   "cell_type": "code",
   "execution_count": 24,
   "id": "f8cfd0d3",
   "metadata": {},
   "outputs": [
    {
     "name": "stdout",
     "output_type": "stream",
     "text": [
      "Accuracy - 0.7034804055905728\n",
      "Precision - 0.6726427906416966\n",
      "Recall - 0.7034804055905728\n",
      "F1 - 0.6838708399732009\n"
     ]
    }
   ],
   "source": [
    "logistic_classifier = LogisticRegression()\n",
    "logistic_classifier.fit(x_train, y_train)\n",
    "y_pred = logistic_classifier.predict(x_test)\n",
    "\n",
    "accuracy=accuracy_score(y_test,y_pred) \n",
    "precision=precision_score(y_test,y_pred,average='weighted')\n",
    "recall=recall_score(y_test,y_pred,average='weighted')\n",
    "f1=f1_score(y_test,y_pred,average='weighted')\n",
    "\n",
    "print('Accuracy - {}'.format(accuracy))\n",
    "print('Precision - {}'.format(precision))\n",
    "print('Recall - {}'.format(recall))\n",
    "print('F1 - {}'.format(f1))"
   ]
  },
  {
   "cell_type": "code",
   "execution_count": 25,
   "id": "d6cffb6a",
   "metadata": {},
   "outputs": [
    {
     "name": "stdout",
     "output_type": "stream",
     "text": [
      "Accuracy - 0.8046040010961908\n",
      "Precision - 0.8054710403961216\n",
      "Recall - 0.8046040010961908\n",
      "F1 - 0.8043608477286369\n"
     ]
    }
   ],
   "source": [
    "RF_classifier = RandomForestClassifier(n_estimators=50)\n",
    "RF_classifier.fit(x_train,y_train)\n",
    "y_pred = RF_classifier.predict(x_test)\n",
    "\n",
    "accuracy=accuracy_score(y_test,y_pred) \n",
    "precision=precision_score(y_test,y_pred,average='weighted')\n",
    "recall=recall_score(y_test,y_pred,average='weighted')\n",
    "f1=f1_score(y_test,y_pred,average='weighted')\n",
    "\n",
    "print('Accuracy - {}'.format(accuracy))\n",
    "print('Precision - {}'.format(precision))\n",
    "print('Recall - {}'.format(recall))\n",
    "print('F1 - {}'.format(f1))"
   ]
  },
  {
   "cell_type": "code",
   "execution_count": 26,
   "id": "522e43c1",
   "metadata": {},
   "outputs": [
    {
     "name": "stdout",
     "output_type": "stream",
     "text": [
      "Accuracy - 0.7695258975061661\n",
      "Precision - 0.7890526778041528\n",
      "Recall - 0.7695258975061661\n",
      "F1 - 0.7771789819734835\n"
     ]
    }
   ],
   "source": [
    "nb_model=GaussianNB()\n",
    "nb_model.fit(x_train,y_train)\n",
    "y_pred=nb_model.predict(x_test)\n",
    "\n",
    "accuracy=accuracy_score(y_test,y_pred) \n",
    "precision=precision_score(y_test,y_pred,average='weighted')\n",
    "recall=recall_score(y_test,y_pred,average='weighted')\n",
    "f1=f1_score(y_test,y_pred,average='weighted')\n",
    "\n",
    "print('Accuracy - {}'.format(accuracy))\n",
    "print('Precision - {}'.format(precision))\n",
    "print('Recall - {}'.format(recall))\n",
    "print('F1 - {}'.format(f1))"
   ]
  },
  {
   "cell_type": "markdown",
   "id": "1e7890c1",
   "metadata": {},
   "source": [
    "### Findings "
   ]
  },
  {
   "cell_type": "markdown",
   "id": "3581d3e2",
   "metadata": {},
   "source": [
    "* We have taken into account only oversLeft, AverageAtVenue, AverageAgainstOpposition, RollingAverage from last 3 games. \n",
    "* For Regression Algorithms, Random Forest Regressor seems to work the best with MEA of ~6.5 \n",
    "* For Classification, Random Forest Classification has a 80% accuracy of predicting "
   ]
  },
  {
   "cell_type": "code",
   "execution_count": null,
   "id": "bc19cf7d",
   "metadata": {},
   "outputs": [],
   "source": []
  }
 ],
 "metadata": {
  "kernelspec": {
   "display_name": "Python 3",
   "language": "python",
   "name": "python3"
  },
  "language_info": {
   "codemirror_mode": {
    "name": "ipython",
    "version": 3
   },
   "file_extension": ".py",
   "mimetype": "text/x-python",
   "name": "python",
   "nbconvert_exporter": "python",
   "pygments_lexer": "ipython3",
   "version": "3.6.13"
  }
 },
 "nbformat": 4,
 "nbformat_minor": 5
}

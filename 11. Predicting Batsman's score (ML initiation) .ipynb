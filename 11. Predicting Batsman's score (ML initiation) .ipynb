{
 "cells": [
  {
   "cell_type": "code",
   "execution_count": 1,
   "id": "61501e2f",
   "metadata": {},
   "outputs": [],
   "source": [
    "# Basics\n",
    "import pandas as pd\n",
    "import matplotlib.pyplot as plt\n",
    "import numpy as np\n",
    "import ipywidgets as widgets\n",
    "\n",
    "# Trying out a bunch of things. \n",
    "from sklearn.model_selection import train_test_split\n",
    "from sklearn.linear_model import LinearRegression\n",
    "from sklearn.linear_model import PoissonRegressor\n",
    "from sklearn.metrics import mean_absolute_error\n",
    "from sklearn.ensemble import RandomForestRegressor\n",
    "from sklearn.tree import DecisionTreeRegressor\n",
    "from sklearn.naive_bayes import GaussianNB\n",
    "\n",
    "#Maths \n",
    "from numpy import absolute\n",
    "from numpy import mean\n",
    "from numpy import std\n",
    "\n",
    "#Visalization\n",
    "from matplotlib import pyplot as plt\n",
    "import seaborn as sns\n",
    "\n",
    "# Clean up options\n",
    "import warnings\n",
    "warnings.filterwarnings('ignore')\n",
    "pd.set_option(\"display.precision\", 2)"
   ]
  },
  {
   "cell_type": "code",
   "execution_count": 2,
   "id": "9689eb14",
   "metadata": {},
   "outputs": [],
   "source": [
    "# Read All IPL Data\n",
    "deliveres = pd.read_csv(\"C:/Users/utkar/OneDrive/Desktop/Analytics/Data/IPL Ball-by-Ball 2008-2020.csv\")\n",
    "matches = pd.read_csv(\"C:/Users/utkar/OneDrive/Desktop/Analytics/Data/IPL Matches 2008-2020.csv\")\n",
    "# Populated with data from cricinfo for bowlers who have bowled in atleasst 10 matches\n",
    "# bowler_data = pd.read_csv(\"C:/Users/utkar/OneDrive/Desktop/Analytics/Data/Bowlers.csv\")\n",
    "\n",
    "del_df = deliveres.copy()\n",
    "#del_df = del_df[del_df.id >= 980901]\n",
    "match_df = matches.copy()\n",
    "#match_df = match_df[match_df.id >= 980901]"
   ]
  },
  {
   "cell_type": "code",
   "execution_count": 3,
   "id": "4d480aa4",
   "metadata": {},
   "outputs": [],
   "source": [
    "selected_batsman = 'V Kohli'"
   ]
  },
  {
   "cell_type": "code",
   "execution_count": 4,
   "id": "1b73cd31",
   "metadata": {},
   "outputs": [],
   "source": [
    "batsman_df = del_df[del_df.batsman == selected_batsman]"
   ]
  },
  {
   "cell_type": "code",
   "execution_count": 5,
   "id": "9b2cc444",
   "metadata": {},
   "outputs": [],
   "source": [
    "comb = pd.merge(batsman_df, match_df, on = 'id', how='left')"
   ]
  },
  {
   "cell_type": "code",
   "execution_count": 6,
   "id": "290b60f2",
   "metadata": {},
   "outputs": [],
   "source": [
    "comb = comb.drop([\"non_striker\", \"extra_runs\", \"total_runs\" , 'batting_team', 'non_boundary' , 'dismissal_kind' , 'fielder' , 'extras_type' , 'city' , 'date' , 'player_of_match' , 'neutral_venue' , 'team1' , 'team2' , 'toss_winner' , 'toss_decision' , 'winner' , 'result' , 'result_margin' , 'eliminator' , 'method' , 'umpire1' , 'umpire2'], axis=1)"
   ]
  },
  {
   "cell_type": "code",
   "execution_count": 7,
   "id": "83c55b0e",
   "metadata": {},
   "outputs": [],
   "source": [
    "tmpRuns = pd.DataFrame(comb.groupby('id').batsman_runs.sum()).rename(columns = {'batsman_runs' : 'totalRuns'}).reset_index()\n",
    "tmpBalls = pd.DataFrame(comb.groupby('id').batsman_runs.count()).rename(columns = {'batsman_runs' : 'totalBalls'}).reset_index()"
   ]
  },
  {
   "cell_type": "code",
   "execution_count": 8,
   "id": "e28b068f",
   "metadata": {},
   "outputs": [],
   "source": [
    "comb = pd.merge(comb, tmpRuns, on = 'id' , how = 'left').reset_index(drop=True)\n",
    "comb = pd.merge(comb, tmpBalls, on = 'id' , how = 'left').reset_index(drop=True)"
   ]
  },
  {
   "cell_type": "code",
   "execution_count": 9,
   "id": "95e195ac",
   "metadata": {},
   "outputs": [],
   "source": [
    "OversLeftAtEntry = pd.DataFrame(20 - comb.groupby('id').over.min()).rename(columns = {'over' : 'oversLeft'}).reset_index()"
   ]
  },
  {
   "cell_type": "code",
   "execution_count": 10,
   "id": "65d7b6f0",
   "metadata": {},
   "outputs": [],
   "source": [
    "comb = comb.drop(['over' , 'ball' , 'batsman_runs', 'player_dismissed', 'bowler' , 'is_wicket'] , axis=1)"
   ]
  },
  {
   "cell_type": "code",
   "execution_count": 11,
   "id": "16f6a961",
   "metadata": {},
   "outputs": [],
   "source": [
    "# comb = comb.drop(['BowlingStyle'], axis=1)\n",
    "# comb = pd.get_dummies(comb, columns = ['bowling_team'], prefix='against_').reset_index(drop=True)\n",
    "# comb = pd.get_dummies(comb, columns = ['venue'], prefix='venue_').reset_index(drop=True)\n",
    "# comb = pd.get_dummies(comb, columns = ['inning'], prefix = 'inning_').reset_index(drop=True)\n",
    "comb = comb.drop_duplicates().reset_index(drop=True)"
   ]
  },
  {
   "cell_type": "code",
   "execution_count": 12,
   "id": "5890596c",
   "metadata": {},
   "outputs": [],
   "source": [
    "comb = pd.merge(comb, OversLeftAtEntry, on = 'id', how = 'left')"
   ]
  },
  {
   "cell_type": "code",
   "execution_count": 13,
   "id": "8e816976",
   "metadata": {},
   "outputs": [],
   "source": [
    "Avg = pd.DataFrame(comb.totalRuns.rolling(5, min_periods=1).mean())\n",
    "comb['RollingAvg'] =  Avg"
   ]
  },
  {
   "cell_type": "code",
   "execution_count": 14,
   "id": "a9fd2a40",
   "metadata": {},
   "outputs": [],
   "source": [
    "teams = comb.bowling_team.unique()\n",
    "team_dict = {}\n",
    "for index,value in enumerate(teams):\n",
    "    team_dict[value] = 0\n",
    "# print(team_dict)\n",
    "\n",
    "venues = comb.venue.unique()\n",
    "venue_dict = {}\n",
    "for index,value in enumerate(venues):\n",
    "    venue_dict[value] = 0\n",
    "# print(venue_dict)"
   ]
  },
  {
   "cell_type": "code",
   "execution_count": 15,
   "id": "e02cdfd1",
   "metadata": {},
   "outputs": [],
   "source": [
    "def getCurrentMatchNumberByBowlingTeam(bowling_team): \n",
    "    team_dict[bowling_team]+=1\n",
    "    return team_dict[bowling_team]\n",
    "\n",
    "def getCurrentMatchNumberByVenue(venue): \n",
    "    venue_dict[venue]+=1\n",
    "    return venue_dict[venue]"
   ]
  },
  {
   "cell_type": "code",
   "execution_count": 16,
   "id": "ea7ce029",
   "metadata": {},
   "outputs": [],
   "source": [
    "comb['matchesAgainstOpposition'] = comb.apply(lambda x: getCurrentMatchNumberByBowlingTeam(x['bowling_team']), axis=1)\n",
    "comb['matchesAtVenue'] = comb.apply(lambda x: getCurrentMatchNumberByVenue(x['venue']), axis=1)"
   ]
  },
  {
   "cell_type": "code",
   "execution_count": 17,
   "id": "b51a9929",
   "metadata": {},
   "outputs": [],
   "source": [
    "comb['runsAgainstOppostion'] = comb.groupby('bowling_team').totalRuns.cumsum()\n",
    "comb['runsAtVenue'] = comb.groupby('venue').totalRuns.cumsum()"
   ]
  },
  {
   "cell_type": "code",
   "execution_count": 18,
   "id": "4bcea52a",
   "metadata": {},
   "outputs": [],
   "source": [
    "# Why does this come in .... \n",
    "# debug !!! \n",
    "comb = comb.loc[:, ~comb.columns.str.contains('^Unnamed')]"
   ]
  },
  {
   "cell_type": "code",
   "execution_count": 19,
   "id": "ac65497d",
   "metadata": {},
   "outputs": [],
   "source": [
    "comb['AvgAgainstOpposition'] = comb.apply(lambda x: x['runsAgainstOppostion'] / x['matchesAgainstOpposition'] , axis=1)\n",
    "comb['AvgAtVenue'] = comb.apply(lambda x: x['runsAtVenue'] / x['matchesAtVenue'] , axis=1)"
   ]
  },
  {
   "cell_type": "code",
   "execution_count": 20,
   "id": "c5364260",
   "metadata": {},
   "outputs": [
    {
     "data": {
      "text/html": [
       "<div>\n",
       "<style scoped>\n",
       "    .dataframe tbody tr th:only-of-type {\n",
       "        vertical-align: middle;\n",
       "    }\n",
       "\n",
       "    .dataframe tbody tr th {\n",
       "        vertical-align: top;\n",
       "    }\n",
       "\n",
       "    .dataframe thead th {\n",
       "        text-align: right;\n",
       "    }\n",
       "</style>\n",
       "<table border=\"1\" class=\"dataframe\">\n",
       "  <thead>\n",
       "    <tr style=\"text-align: right;\">\n",
       "      <th></th>\n",
       "      <th>id</th>\n",
       "      <th>inning</th>\n",
       "      <th>batsman</th>\n",
       "      <th>bowling_team</th>\n",
       "      <th>venue</th>\n",
       "      <th>totalRuns</th>\n",
       "      <th>totalBalls</th>\n",
       "      <th>oversLeft</th>\n",
       "      <th>RollingAvg</th>\n",
       "      <th>matchesAgainstOpposition</th>\n",
       "      <th>matchesAtVenue</th>\n",
       "      <th>runsAgainstOppostion</th>\n",
       "      <th>runsAtVenue</th>\n",
       "      <th>AvgAgainstOpposition</th>\n",
       "      <th>AvgAtVenue</th>\n",
       "    </tr>\n",
       "  </thead>\n",
       "  <tbody>\n",
       "    <tr>\n",
       "      <th>0</th>\n",
       "      <td>335982</td>\n",
       "      <td>2</td>\n",
       "      <td>V Kohli</td>\n",
       "      <td>Kolkata Knight Riders</td>\n",
       "      <td>M Chinnaswamy Stadium</td>\n",
       "      <td>1</td>\n",
       "      <td>5</td>\n",
       "      <td>19</td>\n",
       "      <td>1.00</td>\n",
       "      <td>1</td>\n",
       "      <td>1</td>\n",
       "      <td>1</td>\n",
       "      <td>1</td>\n",
       "      <td>1.0</td>\n",
       "      <td>1.00</td>\n",
       "    </tr>\n",
       "    <tr>\n",
       "      <th>1</th>\n",
       "      <td>335985</td>\n",
       "      <td>2</td>\n",
       "      <td>V Kohli</td>\n",
       "      <td>Mumbai Indians</td>\n",
       "      <td>Wankhede Stadium</td>\n",
       "      <td>23</td>\n",
       "      <td>15</td>\n",
       "      <td>10</td>\n",
       "      <td>12.00</td>\n",
       "      <td>1</td>\n",
       "      <td>1</td>\n",
       "      <td>23</td>\n",
       "      <td>23</td>\n",
       "      <td>23.0</td>\n",
       "      <td>23.00</td>\n",
       "    </tr>\n",
       "    <tr>\n",
       "      <th>2</th>\n",
       "      <td>335992</td>\n",
       "      <td>1</td>\n",
       "      <td>V Kohli</td>\n",
       "      <td>Rajasthan Royals</td>\n",
       "      <td>M Chinnaswamy Stadium</td>\n",
       "      <td>13</td>\n",
       "      <td>16</td>\n",
       "      <td>14</td>\n",
       "      <td>12.33</td>\n",
       "      <td>1</td>\n",
       "      <td>2</td>\n",
       "      <td>13</td>\n",
       "      <td>14</td>\n",
       "      <td>13.0</td>\n",
       "      <td>7.00</td>\n",
       "    </tr>\n",
       "    <tr>\n",
       "      <th>3</th>\n",
       "      <td>335996</td>\n",
       "      <td>2</td>\n",
       "      <td>V Kohli</td>\n",
       "      <td>Chennai Super Kings</td>\n",
       "      <td>M Chinnaswamy Stadium</td>\n",
       "      <td>12</td>\n",
       "      <td>7</td>\n",
       "      <td>5</td>\n",
       "      <td>12.25</td>\n",
       "      <td>1</td>\n",
       "      <td>3</td>\n",
       "      <td>12</td>\n",
       "      <td>26</td>\n",
       "      <td>12.0</td>\n",
       "      <td>8.67</td>\n",
       "    </tr>\n",
       "    <tr>\n",
       "      <th>4</th>\n",
       "      <td>335998</td>\n",
       "      <td>2</td>\n",
       "      <td>V Kohli</td>\n",
       "      <td>Delhi Daredevils</td>\n",
       "      <td>Feroz Shah Kotla</td>\n",
       "      <td>1</td>\n",
       "      <td>1</td>\n",
       "      <td>1</td>\n",
       "      <td>10.00</td>\n",
       "      <td>1</td>\n",
       "      <td>1</td>\n",
       "      <td>1</td>\n",
       "      <td>1</td>\n",
       "      <td>1.0</td>\n",
       "      <td>1.00</td>\n",
       "    </tr>\n",
       "    <tr>\n",
       "      <th>5</th>\n",
       "      <td>336002</td>\n",
       "      <td>2</td>\n",
       "      <td>V Kohli</td>\n",
       "      <td>Deccan Chargers</td>\n",
       "      <td>Rajiv Gandhi International Stadium, Uppal</td>\n",
       "      <td>9</td>\n",
       "      <td>5</td>\n",
       "      <td>5</td>\n",
       "      <td>11.60</td>\n",
       "      <td>1</td>\n",
       "      <td>1</td>\n",
       "      <td>9</td>\n",
       "      <td>9</td>\n",
       "      <td>9.0</td>\n",
       "      <td>9.00</td>\n",
       "    </tr>\n",
       "    <tr>\n",
       "      <th>6</th>\n",
       "      <td>336006</td>\n",
       "      <td>1</td>\n",
       "      <td>V Kohli</td>\n",
       "      <td>Kings XI Punjab</td>\n",
       "      <td>M Chinnaswamy Stadium</td>\n",
       "      <td>34</td>\n",
       "      <td>39</td>\n",
       "      <td>19</td>\n",
       "      <td>13.80</td>\n",
       "      <td>1</td>\n",
       "      <td>4</td>\n",
       "      <td>34</td>\n",
       "      <td>60</td>\n",
       "      <td>34.0</td>\n",
       "      <td>15.00</td>\n",
       "    </tr>\n",
       "    <tr>\n",
       "      <th>7</th>\n",
       "      <td>336012</td>\n",
       "      <td>1</td>\n",
       "      <td>V Kohli</td>\n",
       "      <td>Mumbai Indians</td>\n",
       "      <td>M Chinnaswamy Stadium</td>\n",
       "      <td>0</td>\n",
       "      <td>1</td>\n",
       "      <td>8</td>\n",
       "      <td>11.20</td>\n",
       "      <td>2</td>\n",
       "      <td>5</td>\n",
       "      <td>23</td>\n",
       "      <td>60</td>\n",
       "      <td>11.5</td>\n",
       "      <td>12.00</td>\n",
       "    </tr>\n",
       "    <tr>\n",
       "      <th>8</th>\n",
       "      <td>336016</td>\n",
       "      <td>1</td>\n",
       "      <td>V Kohli</td>\n",
       "      <td>Kings XI Punjab</td>\n",
       "      <td>Punjab Cricket Association Stadium, Mohali</td>\n",
       "      <td>21</td>\n",
       "      <td>23</td>\n",
       "      <td>20</td>\n",
       "      <td>13.00</td>\n",
       "      <td>2</td>\n",
       "      <td>1</td>\n",
       "      <td>55</td>\n",
       "      <td>21</td>\n",
       "      <td>27.5</td>\n",
       "      <td>21.00</td>\n",
       "    </tr>\n",
       "    <tr>\n",
       "      <th>9</th>\n",
       "      <td>336023</td>\n",
       "      <td>2</td>\n",
       "      <td>V Kohli</td>\n",
       "      <td>Rajasthan Royals</td>\n",
       "      <td>Sawai Mansingh Stadium</td>\n",
       "      <td>3</td>\n",
       "      <td>8</td>\n",
       "      <td>20</td>\n",
       "      <td>13.40</td>\n",
       "      <td>2</td>\n",
       "      <td>1</td>\n",
       "      <td>16</td>\n",
       "      <td>3</td>\n",
       "      <td>8.0</td>\n",
       "      <td>3.00</td>\n",
       "    </tr>\n",
       "  </tbody>\n",
       "</table>\n",
       "</div>"
      ],
      "text/plain": [
       "       id  inning  batsman           bowling_team  \\\n",
       "0  335982       2  V Kohli  Kolkata Knight Riders   \n",
       "1  335985       2  V Kohli         Mumbai Indians   \n",
       "2  335992       1  V Kohli       Rajasthan Royals   \n",
       "3  335996       2  V Kohli    Chennai Super Kings   \n",
       "4  335998       2  V Kohli       Delhi Daredevils   \n",
       "5  336002       2  V Kohli        Deccan Chargers   \n",
       "6  336006       1  V Kohli        Kings XI Punjab   \n",
       "7  336012       1  V Kohli         Mumbai Indians   \n",
       "8  336016       1  V Kohli        Kings XI Punjab   \n",
       "9  336023       2  V Kohli       Rajasthan Royals   \n",
       "\n",
       "                                        venue  totalRuns  totalBalls  \\\n",
       "0                       M Chinnaswamy Stadium          1           5   \n",
       "1                            Wankhede Stadium         23          15   \n",
       "2                       M Chinnaswamy Stadium         13          16   \n",
       "3                       M Chinnaswamy Stadium         12           7   \n",
       "4                            Feroz Shah Kotla          1           1   \n",
       "5   Rajiv Gandhi International Stadium, Uppal          9           5   \n",
       "6                       M Chinnaswamy Stadium         34          39   \n",
       "7                       M Chinnaswamy Stadium          0           1   \n",
       "8  Punjab Cricket Association Stadium, Mohali         21          23   \n",
       "9                      Sawai Mansingh Stadium          3           8   \n",
       "\n",
       "   oversLeft  RollingAvg  matchesAgainstOpposition  matchesAtVenue  \\\n",
       "0         19        1.00                         1               1   \n",
       "1         10       12.00                         1               1   \n",
       "2         14       12.33                         1               2   \n",
       "3          5       12.25                         1               3   \n",
       "4          1       10.00                         1               1   \n",
       "5          5       11.60                         1               1   \n",
       "6         19       13.80                         1               4   \n",
       "7          8       11.20                         2               5   \n",
       "8         20       13.00                         2               1   \n",
       "9         20       13.40                         2               1   \n",
       "\n",
       "   runsAgainstOppostion  runsAtVenue  AvgAgainstOpposition  AvgAtVenue  \n",
       "0                     1            1                   1.0        1.00  \n",
       "1                    23           23                  23.0       23.00  \n",
       "2                    13           14                  13.0        7.00  \n",
       "3                    12           26                  12.0        8.67  \n",
       "4                     1            1                   1.0        1.00  \n",
       "5                     9            9                   9.0        9.00  \n",
       "6                    34           60                  34.0       15.00  \n",
       "7                    23           60                  11.5       12.00  \n",
       "8                    55           21                  27.5       21.00  \n",
       "9                    16            3                   8.0        3.00  "
      ]
     },
     "execution_count": 20,
     "metadata": {},
     "output_type": "execute_result"
    }
   ],
   "source": [
    "comb.head(10)"
   ]
  },
  {
   "cell_type": "code",
   "execution_count": 21,
   "id": "cad96471",
   "metadata": {},
   "outputs": [
    {
     "data": {
      "image/png": "[encoded data removed]",
      "text/plain": [
       "<Figure size 2160x1296 with 2 Axes>"
      ]
     },
     "metadata": {
      "needs_background": "light"
     },
     "output_type": "display_data"
    }
   ],
   "source": [
    "# Plot a correlation Heat Map \n",
    "\n",
    "fig, ax = plt.subplots(figsize=(30, 18))\n",
    "corr = comb.drop(labels = ['id'] , axis=1).corr()\n",
    "\n",
    "\n",
    "myMask = np.zeros_like(corr)\n",
    "myMask[np.triu_indices_from(myMask)] = True\n",
    "\n",
    "colormap = sns.light_palette((260, 75, 60), input=\"husl\")\n",
    "\n",
    "sns.heatmap(corr, cmap=colormap, linewidths=.5, annot=True, fmt=\".2f\", mask=myMask)\n",
    "plt.title('Runs - Features Correlations')\n",
    "\n",
    "plt.show()"
   ]
  },
  {
   "cell_type": "markdown",
   "id": "b2112863",
   "metadata": {},
   "source": [
    "### Predicting Batsman's score based on above metrics"
   ]
  },
  {
   "cell_type": "code",
   "execution_count": 22,
   "id": "b5b73098",
   "metadata": {},
   "outputs": [],
   "source": [
    "# Choosing Features \n",
    "x = comb.drop(labels = ['id' , 'inning' , 'batsman' , 'totalRuns', 'bowling_team' , 'venue'], axis=1)\n",
    "\n",
    "# We need prediction for Total Runs, always. So this is fixed \n",
    "y = comb['totalRuns'].values\n",
    "\n",
    "# Split the data into test/train - 70/30 \n",
    "x_train , x_test , y_train , y_test = train_test_split(x , y, test_size = 0.3 , random_state = 42)"
   ]
  },
  {
   "cell_type": "code",
   "execution_count": 23,
   "id": "f32281b0",
   "metadata": {},
   "outputs": [
    {
     "name": "stdout",
     "output_type": "stream",
     "text": [
      "0.9074672354721077\n",
      "0.9012922465451112\n"
     ]
    },
    {
     "data": {
      "text/plain": [
       "6.467916244659498"
      ]
     },
     "execution_count": 23,
     "metadata": {},
     "output_type": "execute_result"
    }
   ],
   "source": [
    "# Linear Regressor \n",
    "linear_regressor = LinearRegression()\n",
    "linear_regressor.fit(x_train, y_train)\n",
    "\n",
    "print(linear_regressor.score(x_train, y_train))\n",
    "y_pred = linear_regressor.predict(x_test)\n",
    "print(linear_regressor.score(x_test, y_test))\n",
    "mean_absolute_error(y_test, y_pred)"
   ]
  },
  {
   "cell_type": "code",
   "execution_count": 24,
   "id": "ab280ee0",
   "metadata": {},
   "outputs": [
    {
     "name": "stdout",
     "output_type": "stream",
     "text": [
      "0.0\n",
      "-0.0007345493044239593\n"
     ]
    },
    {
     "data": {
      "text/plain": [
       "21.04296875"
      ]
     },
     "execution_count": 24,
     "metadata": {},
     "output_type": "execute_result"
    }
   ],
   "source": [
    "# Poisson Regressor \n",
    "# debug this - not looking correct \n",
    "poisson_regressor = PoissonRegressor()\n",
    "poisson_regressor.fit(x_train, y_train)\n",
    "\n",
    "print(poisson_regressor.score(x_train, y_train))\n",
    "y_pred = poisson_regressor.predict(x_test)\n",
    "print(poisson_regressor.score(x_test, y_test))\n",
    "mean_absolute_error(y_test, y_pred)"
   ]
  },
  {
   "cell_type": "code",
   "execution_count": 25,
   "id": "12f93f3b",
   "metadata": {},
   "outputs": [
    {
     "name": "stdout",
     "output_type": "stream",
     "text": [
      "0.9867857928581093\n",
      "0.891123052092696\n"
     ]
    },
    {
     "data": {
      "text/plain": [
       "6.5525"
      ]
     },
     "execution_count": 25,
     "metadata": {},
     "output_type": "execute_result"
    }
   ],
   "source": [
    "# Random Forest Regressor\n",
    "rdf_regressor = RandomForestRegressor(n_estimators=100,max_features=None)\n",
    "rdf_regressor.fit(x_train,y_train)\n",
    "\n",
    "print(rdf_regressor.score(x_train,y_train))\n",
    "y_pred = rdf_regressor.predict(x_test)\n",
    "print(rdf_regressor.score(x_test,y_test))\n",
    "mean_absolute_error(y_test, y_pred)"
   ]
  },
  {
   "cell_type": "code",
   "execution_count": 26,
   "id": "14fda7fd",
   "metadata": {},
   "outputs": [
    {
     "name": "stdout",
     "output_type": "stream",
     "text": [
      "0.7734375\n",
      "0.03571428571428571\n"
     ]
    },
    {
     "data": {
      "text/plain": [
       "11.232142857142858"
      ]
     },
     "execution_count": 26,
     "metadata": {},
     "output_type": "execute_result"
    }
   ],
   "source": [
    "# GaussianNB\n",
    "nb_model=GaussianNB()\n",
    "nb_model.fit(x_train,y_train)\n",
    "\n",
    "print(nb_model.score(x_train,y_train))\n",
    "y_pred=nb_model.predict(x_test)\n",
    "print(nb_model.score(x_test,y_test))\n",
    "mean_absolute_error(y_test, y_pred)"
   ]
  },
  {
   "cell_type": "code",
   "execution_count": 27,
   "id": "078c098c",
   "metadata": {},
   "outputs": [
    {
     "name": "stdout",
     "output_type": "stream",
     "text": [
      "1.0\n",
      "0.7776544609011685\n"
     ]
    },
    {
     "data": {
      "text/plain": [
       "9.035714285714286"
      ]
     },
     "execution_count": 27,
     "metadata": {},
     "output_type": "execute_result"
    }
   ],
   "source": [
    "# Decision Tree\n",
    "dt_regressor = DecisionTreeRegressor(criterion='mse', splitter='best',\n",
    "                             max_depth=None, min_samples_split=2,\n",
    "                             min_samples_leaf=1, min_weight_fraction_leaf=0.0,\n",
    "                             max_features=None, random_state=None,\n",
    "                             max_leaf_nodes=None, min_impurity_decrease=0.0, \n",
    "                             min_impurity_split=None, \n",
    "                             ccp_alpha=0.0)\n",
    "\n",
    "\n",
    "dt_regressor.fit(x_train,y_train)\n",
    "\n",
    "print(dt_regressor.score(x_train,y_train))\n",
    "y_pred=dt_regressor.predict(x_test)\n",
    "print(dt_regressor.score(x_test,y_test))\n",
    "mean_absolute_error(y_test, y_pred)"
   ]
  },
  {
   "cell_type": "code",
   "execution_count": 28,
   "id": "490cfed3",
   "metadata": {},
   "outputs": [
    {
     "data": {
      "text/html": [
       "<div>\n",
       "<style scoped>\n",
       "    .dataframe tbody tr th:only-of-type {\n",
       "        vertical-align: middle;\n",
       "    }\n",
       "\n",
       "    .dataframe tbody tr th {\n",
       "        vertical-align: top;\n",
       "    }\n",
       "\n",
       "    .dataframe thead th {\n",
       "        text-align: right;\n",
       "    }\n",
       "</style>\n",
       "<table border=\"1\" class=\"dataframe\">\n",
       "  <thead>\n",
       "    <tr style=\"text-align: right;\">\n",
       "      <th></th>\n",
       "      <th>totalBalls</th>\n",
       "      <th>oversLeft</th>\n",
       "      <th>RollingAvg</th>\n",
       "      <th>matchesAgainstOpposition</th>\n",
       "      <th>matchesAtVenue</th>\n",
       "      <th>runsAgainstOppostion</th>\n",
       "      <th>runsAtVenue</th>\n",
       "      <th>AvgAgainstOpposition</th>\n",
       "      <th>AvgAtVenue</th>\n",
       "    </tr>\n",
       "  </thead>\n",
       "  <tbody>\n",
       "    <tr>\n",
       "      <th>19</th>\n",
       "      <td>22</td>\n",
       "      <td>15</td>\n",
       "      <td>14.8</td>\n",
       "      <td>4</td>\n",
       "      <td>1</td>\n",
       "      <td>34</td>\n",
       "      <td>15</td>\n",
       "      <td>8.50</td>\n",
       "      <td>15.00</td>\n",
       "    </tr>\n",
       "    <tr>\n",
       "      <th>42</th>\n",
       "      <td>24</td>\n",
       "      <td>8</td>\n",
       "      <td>34.2</td>\n",
       "      <td>4</td>\n",
       "      <td>2</td>\n",
       "      <td>52</td>\n",
       "      <td>32</td>\n",
       "      <td>13.00</td>\n",
       "      <td>16.00</td>\n",
       "    </tr>\n",
       "    <tr>\n",
       "      <th>156</th>\n",
       "      <td>33</td>\n",
       "      <td>17</td>\n",
       "      <td>23.2</td>\n",
       "      <td>23</td>\n",
       "      <td>66</td>\n",
       "      <td>617</td>\n",
       "      <td>2158</td>\n",
       "      <td>26.83</td>\n",
       "      <td>32.70</td>\n",
       "    </tr>\n",
       "    <tr>\n",
       "      <th>111</th>\n",
       "      <td>19</td>\n",
       "      <td>20</td>\n",
       "      <td>45.0</td>\n",
       "      <td>6</td>\n",
       "      <td>6</td>\n",
       "      <td>291</td>\n",
       "      <td>279</td>\n",
       "      <td>48.50</td>\n",
       "      <td>46.50</td>\n",
       "    </tr>\n",
       "    <tr>\n",
       "      <th>148</th>\n",
       "      <td>26</td>\n",
       "      <td>12</td>\n",
       "      <td>48.0</td>\n",
       "      <td>22</td>\n",
       "      <td>64</td>\n",
       "      <td>571</td>\n",
       "      <td>2100</td>\n",
       "      <td>25.95</td>\n",
       "      <td>32.81</td>\n",
       "    </tr>\n",
       "    <tr>\n",
       "      <th>15</th>\n",
       "      <td>3</td>\n",
       "      <td>4</td>\n",
       "      <td>20.8</td>\n",
       "      <td>3</td>\n",
       "      <td>1</td>\n",
       "      <td>57</td>\n",
       "      <td>2</td>\n",
       "      <td>19.00</td>\n",
       "      <td>2.00</td>\n",
       "    </tr>\n",
       "    <tr>\n",
       "      <th>24</th>\n",
       "      <td>8</td>\n",
       "      <td>9</td>\n",
       "      <td>21.6</td>\n",
       "      <td>5</td>\n",
       "      <td>2</td>\n",
       "      <td>123</td>\n",
       "      <td>31</td>\n",
       "      <td>24.60</td>\n",
       "      <td>15.50</td>\n",
       "    </tr>\n",
       "    <tr>\n",
       "      <th>68</th>\n",
       "      <td>41</td>\n",
       "      <td>18</td>\n",
       "      <td>32.6</td>\n",
       "      <td>10</td>\n",
       "      <td>3</td>\n",
       "      <td>306</td>\n",
       "      <td>122</td>\n",
       "      <td>30.60</td>\n",
       "      <td>40.67</td>\n",
       "    </tr>\n",
       "    <tr>\n",
       "      <th>117</th>\n",
       "      <td>34</td>\n",
       "      <td>20</td>\n",
       "      <td>42.2</td>\n",
       "      <td>17</td>\n",
       "      <td>7</td>\n",
       "      <td>358</td>\n",
       "      <td>280</td>\n",
       "      <td>21.06</td>\n",
       "      <td>40.00</td>\n",
       "    </tr>\n",
       "    <tr>\n",
       "      <th>98</th>\n",
       "      <td>53</td>\n",
       "      <td>16</td>\n",
       "      <td>43.0</td>\n",
       "      <td>16</td>\n",
       "      <td>37</td>\n",
       "      <td>595</td>\n",
       "      <td>988</td>\n",
       "      <td>37.19</td>\n",
       "      <td>26.70</td>\n",
       "    </tr>\n",
       "  </tbody>\n",
       "</table>\n",
       "</div>"
      ],
      "text/plain": [
       "     totalBalls  oversLeft  RollingAvg  matchesAgainstOpposition  \\\n",
       "19           22         15        14.8                         4   \n",
       "42           24          8        34.2                         4   \n",
       "156          33         17        23.2                        23   \n",
       "111          19         20        45.0                         6   \n",
       "148          26         12        48.0                        22   \n",
       "15            3          4        20.8                         3   \n",
       "24            8          9        21.6                         5   \n",
       "68           41         18        32.6                        10   \n",
       "117          34         20        42.2                        17   \n",
       "98           53         16        43.0                        16   \n",
       "\n",
       "     matchesAtVenue  runsAgainstOppostion  runsAtVenue  AvgAgainstOpposition  \\\n",
       "19                1                    34           15                  8.50   \n",
       "42                2                    52           32                 13.00   \n",
       "156              66                   617         2158                 26.83   \n",
       "111               6                   291          279                 48.50   \n",
       "148              64                   571         2100                 25.95   \n",
       "15                1                    57            2                 19.00   \n",
       "24                2                   123           31                 24.60   \n",
       "68                3                   306          122                 30.60   \n",
       "117               7                   358          280                 21.06   \n",
       "98               37                   595          988                 37.19   \n",
       "\n",
       "     AvgAtVenue  \n",
       "19        15.00  \n",
       "42        16.00  \n",
       "156       32.70  \n",
       "111       46.50  \n",
       "148       32.81  \n",
       "15         2.00  \n",
       "24        15.50  \n",
       "68        40.67  \n",
       "117       40.00  \n",
       "98        26.70  "
      ]
     },
     "execution_count": 28,
     "metadata": {},
     "output_type": "execute_result"
    }
   ],
   "source": [
    "x_test.head(10)"
   ]
  },
  {
   "cell_type": "code",
   "execution_count": 29,
   "id": "b632f56e",
   "metadata": {},
   "outputs": [],
   "source": [
    "def predict_score(df, totalBalls, oversLeft, RollingAvg, matchesAgainstOpposition, matchesAtVenue, runsAgainstOpposition, runsAtVenue, AvgAgainstOpposition, AvgAtVenue): \n",
    "    \n",
    "    test_input = [[totalBalls, oversLeft, RollingAvg, matchesAgainstOpposition, matchesAtVenue, runsAgainstOpposition, runsAtVenue, AvgAgainstOpposition, AvgAtVenue]]\n",
    "    \n",
    "    \n",
    "    print (\"Linear Regression Prediction - \" + str(linear_regressor.predict(test_input)))\n",
    "    print (\"Poisson Regression Prediction - \" + str(poisson_regressor.predict(test_input)))\n",
    "    print (\"Random Forest Regression Prediction - \" + str(rdf_regressor.predict(test_input)))\n",
    "    print (\"Gaussian Prediction - \" + str(nb_model.predict(test_input)))\n",
    "    print (\"Decision Tree Regression Prediction - \" + str(dt_regressor.predict(test_input)))\n",
    "    \n",
    "    real = df[(df.totalBalls == totalBalls) & (df.oversLeft == oversLeft) & (df.RollingAvg == RollingAvg)].totalRuns.sum()\n",
    "    print(\"Real output - \" , str(real))"
   ]
  },
  {
   "cell_type": "code",
   "execution_count": 30,
   "id": "ce32eceb",
   "metadata": {},
   "outputs": [
    {
     "name": "stdout",
     "output_type": "stream",
     "text": [
      "Linear Regression Prediction - [68.53951325]\n",
      "Poisson Regression Prediction - [31.734375]\n",
      "Random Forest Regression Prediction - [78.81]\n",
      "Gaussian Prediction - [67]\n",
      "Decision Tree Regression Prediction - [93.]\n",
      "Real output -  64\n"
     ]
    }
   ],
   "source": [
    "# Get a Prediction from all models for same data for comparison\n",
    "predict_score(comb, 51, 20, 41.6, 4, 2, 273, 164, 68.25, 82.00)"
   ]
  },
  {
   "cell_type": "code",
   "execution_count": null,
   "id": "6206c365",
   "metadata": {},
   "outputs": [],
   "source": []
  }
 ],
 "metadata": {
  "kernelspec": {
   "display_name": "Python 3",
   "language": "python",
   "name": "python3"
  },
  "language_info": {
   "codemirror_mode": {
    "name": "ipython",
    "version": 3
   },
   "file_extension": ".py",
   "mimetype": "text/x-python",
   "name": "python",
   "nbconvert_exporter": "python",
   "pygments_lexer": "ipython3",
   "version": "3.6.13"
  }
 },
 "nbformat": 4,
 "nbformat_minor": 5
}

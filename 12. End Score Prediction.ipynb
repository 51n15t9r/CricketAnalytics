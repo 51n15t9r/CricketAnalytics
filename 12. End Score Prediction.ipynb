{
 "cells": [
  {
   "cell_type": "code",
   "execution_count": 1,
   "id": "ab109ed3",
   "metadata": {},
   "outputs": [],
   "source": [
    "# Basics\n",
    "import pandas as pd\n",
    "import matplotlib.pyplot as plt\n",
    "import numpy as np\n",
    "import ipywidgets as widgets\n",
    "\n",
    "# Trying out a bunch of things. \n",
    "from sklearn.model_selection import train_test_split\n",
    "from sklearn.linear_model import LinearRegression\n",
    "from sklearn.ensemble import RandomForestRegressor\n",
    "from sklearn.tree import DecisionTreeRegressor\n",
    "\n",
    "from sklearn import metrics\n",
    "from sklearn.metrics import mean_absolute_error\n",
    "from sklearn.metrics import precision_score\n",
    "from sklearn.metrics import recall_score\n",
    "from sklearn.metrics import accuracy_score\n",
    "from sklearn.metrics import f1_score\n",
    "\n",
    "#Maths \n",
    "from numpy import absolute\n",
    "from numpy import mean\n",
    "from numpy import std\n",
    "\n",
    "#Visalization\n",
    "from matplotlib import pyplot as plt\n",
    "\n",
    "# Clean up options\n",
    "import warnings\n",
    "warnings.filterwarnings('ignore')\n",
    "pd.set_option(\"display.precision\", 2)"
   ]
  },
  {
   "cell_type": "code",
   "execution_count": 2,
   "id": "84beff1f",
   "metadata": {},
   "outputs": [],
   "source": [
    "# Read All IPL Data\n",
    "deliveres = pd.read_csv(\"C:/Users/utkar/OneDrive/Desktop/Analytics/Data/IPL Ball-by-Ball 2008-2020.csv\")\n",
    "matches = pd.read_csv(\"C:/Users/utkar/OneDrive/Desktop/Analytics/Data/IPL Matches 2008-2020.csv\")\n",
    "\n",
    "# Make a copy\n",
    "del_df = deliveres.copy()\n",
    "match_df = matches.copy()"
   ]
  },
  {
   "cell_type": "code",
   "execution_count": 3,
   "id": "d36c26a9",
   "metadata": {},
   "outputs": [],
   "source": [
    "comb = pd.merge(del_df, match_df, on = 'id', how='left')"
   ]
  },
  {
   "cell_type": "code",
   "execution_count": 4,
   "id": "700a0fcc",
   "metadata": {},
   "outputs": [],
   "source": [
    "comb = comb.sort_values(['id' , 'inning' , 'over' , 'ball'] , ascending = [True, True, True, True])"
   ]
  },
  {
   "cell_type": "code",
   "execution_count": 5,
   "id": "12ab6348",
   "metadata": {},
   "outputs": [
    {
     "data": {
      "text/plain": [
       "Index(['id', 'inning', 'over', 'ball', 'batsman', 'non_striker', 'bowler',\n",
       "       'batsman_runs', 'extra_runs', 'total_runs', 'non_boundary', 'is_wicket',\n",
       "       'dismissal_kind', 'player_dismissed', 'fielder', 'extras_type',\n",
       "       'batting_team', 'bowling_team', 'Unnamed: 18', 'city', 'date',\n",
       "       'player_of_match', 'venue', 'neutral_venue', 'team1', 'team2',\n",
       "       'toss_winner', 'toss_decision', 'winner', 'result', 'result_margin',\n",
       "       'eliminator', 'method', 'umpire1', 'umpire2'],\n",
       "      dtype='object')"
      ]
     },
     "execution_count": 5,
     "metadata": {},
     "output_type": "execute_result"
    }
   ],
   "source": [
    "comb.columns"
   ]
  },
  {
   "cell_type": "code",
   "execution_count": 6,
   "id": "d3d574ec",
   "metadata": {},
   "outputs": [],
   "source": [
    "comb = comb[['id' , 'inning' , 'batting_team' , 'bowling_team' , 'over' , 'ball' , 'total_runs' , 'is_wicket' , 'player_dismissed' , 'venue']]"
   ]
  },
  {
   "cell_type": "code",
   "execution_count": 7,
   "id": "d0eb3a7a",
   "metadata": {},
   "outputs": [],
   "source": [
    "comb = comb.replace(np.NaN, 0)"
   ]
  },
  {
   "cell_type": "code",
   "execution_count": 8,
   "id": "ba26646a",
   "metadata": {},
   "outputs": [],
   "source": [
    "comb['finalScore'] = comb.groupby(['id' , 'inning'])['total_runs'].transform('sum')\n",
    "\n",
    "comb['current_score'] = comb.groupby(['id' , 'inning'])['total_runs'].apply(lambda x: x.cumsum())\n",
    "\n",
    "comb['current_wickets'] = comb.groupby(['id' , 'inning'])['is_wicket'].apply(lambda x: x.cumsum())\n",
    "\n",
    "tmp = comb.groupby(['id' , 'inning'])['total_runs'].rolling(min_periods = 1, window = 30).sum().reset_index()\n",
    "comb['prev_30_runs'] = tmp['total_runs'].to_list()\n",
    "\n",
    "tmp = comb.groupby(['id' , 'inning'])['is_wicket'].rolling(min_periods = 1, window = 30).sum().reset_index()\n",
    "comb['prev_30_wickets'] = tmp['is_wicket'].to_list()\n",
    "\n",
    "comb['prev_30_dot_balls'] = comb['total_runs'].apply(lambda x : 1 if x == 0 else 0)\n",
    "tmp = comb.groupby(['id' , 'inning'])['prev_30_dot_balls'].rolling(min_periods = 1, window = 30).sum().reset_index()\n",
    "comb['prev_30_dot_balls'] = tmp['prev_30_dot_balls'].to_list()\n",
    "\n",
    "comb['prev_30_boundaries'] = comb['total_runs'].apply(lambda x : 1 if (x == 4 or x == 6) else 0)\n",
    "tmp = comb.groupby(['id' , 'inning'])['prev_30_boundaries'].rolling(min_periods = 1, window = 30).sum().reset_index()\n",
    "comb['prev_30_boundaries'] = tmp['prev_30_boundaries'].to_list()\n",
    "\n",
    "convert_dict = {'prev_30_runs': int, \n",
    "                'prev_30_wickets': int,\n",
    "                'prev_30_dot_balls': int,\n",
    "                'prev_30_boundaries': int \n",
    "                }\n",
    "\n",
    "comb = comb.astype(convert_dict)"
   ]
  },
  {
   "cell_type": "code",
   "execution_count": 9,
   "id": "1a180027",
   "metadata": {},
   "outputs": [],
   "source": [
    "venue_list = comb['venue'].unique().tolist()\n",
    "batting_team_list = comb['batting_team'].unique().tolist()\n",
    "bowling_team_list = comb['bowling_team'].unique().tolist()"
   ]
  },
  {
   "cell_type": "code",
   "execution_count": 10,
   "id": "9cfc347e",
   "metadata": {},
   "outputs": [],
   "source": [
    "comb = pd.get_dummies(data = comb , columns = ['batting_team' , 'bowling_team' , 'venue'])"
   ]
  },
  {
   "cell_type": "code",
   "execution_count": 11,
   "id": "9838c328",
   "metadata": {},
   "outputs": [],
   "source": [
    "# Choosing Features \n",
    "# Input columns are inning, current score (runs / wickets) , last 30 ball data (runs / wickets / Dot Balls / Boundaries)\n",
    "# Batting Team, Bowling Team and venue (One Hot encoded)\n",
    "x = comb.drop(labels = ['id' , 'finalScore' , 'player_dismissed', 'total_runs' , 'is_wicket'] , axis = 1)\n",
    "\n",
    "# We need prediction for Final Score \n",
    "y = comb['finalScore'].values\n",
    "\n",
    "# Split the data into test/train - 70/30 \n",
    "x_train , x_test , y_train , y_test = train_test_split(x , y, test_size = 0.3 , random_state = 30)"
   ]
  },
  {
   "cell_type": "code",
   "execution_count": 12,
   "id": "3563c1b1",
   "metadata": {},
   "outputs": [
    {
     "name": "stdout",
     "output_type": "stream",
     "text": [
      "Accuracy on training data  - 45.16391589483165%\n",
      "Accuracy on test data  - 44.80172782224382%\n",
      "Mean Absolute Error - 16.336917006943366\n"
     ]
    }
   ],
   "source": [
    "# Linear Regressor \n",
    "linear_regressor = LinearRegression()\n",
    "linear_regressor.fit(x_train, y_train)\n",
    "\n",
    "print(\"Accuracy on training data  - \" + str(linear_regressor.score(x_train, y_train) * 100) + \"%\")\n",
    "y_pred = linear_regressor.predict(x_test)\n",
    "print(\"Accuracy on test data  - \" + str(linear_regressor.score(x_test, y_test) * 100) + \"%\")\n",
    "y_pred = np.rint(y_pred)\n",
    "print(\"Mean Absolute Error - \" + str(mean_absolute_error(y_test, y_pred)))"
   ]
  },
  {
   "cell_type": "code",
   "execution_count": null,
   "id": "32396e47",
   "metadata": {},
   "outputs": [],
   "source": [
    "# Random Forest Regressor\n",
    "rdf_regressor = RandomForestRegressor(n_estimators=50,max_features=None)\n",
    "rdf_regressor.fit(x_train,y_train)\n",
    "\n",
    "print(\"Accuracy on training data  - \" + str(rdf_regressor.score(x_train, y_train) * 100) + \"%\")\n",
    "y_pred = rdf_regressor.predict(x_test)\n",
    "print(\"Accuracy on test data  - \" + str(rdf_regressor.score(x_test, y_test) * 100) + \"%\")\n",
    "y_pred = np.rint(y_pred)\n",
    "print(\"Mean Absolute Error - \" + str(mean_absolute_error(y_test, y_pred)))"
   ]
  },
  {
   "cell_type": "code",
   "execution_count": null,
   "id": "31189287",
   "metadata": {},
   "outputs": [],
   "source": [
    "# Decision Tree\n",
    "dt_regressor = DecisionTreeRegressor(criterion='mse', splitter='best',\n",
    "                             max_depth=None, min_samples_split=2,\n",
    "                             min_samples_leaf=1, min_weight_fraction_leaf=0.0,\n",
    "                             max_features=None, random_state=None,\n",
    "                             max_leaf_nodes=None, min_impurity_decrease=0.0, \n",
    "                             min_impurity_split=None, \n",
    "                             ccp_alpha=0.0)\n",
    "\n",
    "\n",
    "dt_regressor.fit(x_train,y_train)\n",
    "\n",
    "print(\"Accuracy on training data  - \" + str(dt_regressor.score(x_train, y_train) * 100) + \"%\")\n",
    "y_pred = dt_regressor.predict(x_test)\n",
    "print(\"Accuracy on test data  - \" + str(dt_regressor.score(x_test, y_test) * 100) + \"%\")\n",
    "y_pred = np.rint(y_pred)\n",
    "print(\"Mean Absolute Error - \" + str(mean_absolute_error(y_test, y_pred)))"
   ]
  },
  {
   "cell_type": "code",
   "execution_count": null,
   "id": "89bff512",
   "metadata": {},
   "outputs": [],
   "source": [
    "pd.set_option('display.max_columns', None)\n",
    "x_test.head()"
   ]
  },
  {
   "cell_type": "code",
   "execution_count": null,
   "id": "28e249f8",
   "metadata": {},
   "outputs": [],
   "source": [
    "def finalScorePrediction(test_inning , test_over , test_ball , test_current_score , test_current_wickets , \n",
    "                         test_prev_30_runs , test_prev_30_wickets , test_prev_30_dot_balls , test_prev_30_boundaries , \n",
    "                        test_venue , test_batting_team , test_bowling_team): \n",
    "    print( \"Inning  = \" + str(test_inning))\n",
    "    print( \"Venue  = \" + str(test_venue))\n",
    "    print( \"Batting Team  = \" + str(test_batting_team))\n",
    "    print( \"Bowling Team  = \" + str(test_bowling_team))\n",
    "    print( \"Over    = \" + str(test_over))\n",
    "    print( \"Ball    = \" + str(test_ball))\n",
    "    print( \"Current Score  = \" + str(test_current_score))\n",
    "    print( \"Current Wickets  = \" + str(test_current_wickets))\n",
    "    print( \"Runs Scored in last 30 balls  = \" + str(test_prev_30_runs))\n",
    "    print( \"Wickets Lost in last 30 balls  = \" + str(test_prev_30_wickets))\n",
    "    print( \"Dot Balls in last 30 balls  = \" + str(test_prev_30_dot_balls))\n",
    "    print( \"Boundaries scored in last 30 balls  = \" + str(test_prev_30_boundaries))\n",
    "    print()\n",
    "    \n",
    "    input = pd.DataFrame(columns = comb.columns)\n",
    "    input = input.drop(labels = ['id' , 'finalScore' , 'player_dismissed', 'total_runs' , 'is_wicket'] , axis = 1)\n",
    "    \n",
    "    input.at[ 0, 'inning'] = test_inning\n",
    "    input['over'] = test_over\n",
    "    input['ball'] = test_ball\n",
    "    input['current_score'] = test_current_score\n",
    "    input['current_wickets'] = test_current_wickets\n",
    "    input['prev_30_runs'] = test_prev_30_runs\n",
    "    input['prev_30_wickets'] = test_prev_30_wickets\n",
    "    input['prev_30_dot_balls'] = test_prev_30_dot_balls\n",
    "    input['prev_30_boundaries'] = test_prev_30_boundaries\n",
    "    input['venue_' + test_venue] = 1\n",
    "    input['batting_team_' +  test_batting_team ] = 1\n",
    "    input['bowling_team_' +  test_bowling_team ] = 1\n",
    "\n",
    "    input = input.replace(np.nan,0)\n",
    "\n",
    "    print( \"Predicted Score (Random Forest) = \" + str(np.rint(rdf_regressor.predict(input))))\n",
    "    print( \"Predicted Score (Decision Tree) = \" + str(np.rint(dt_regressor.predict(input))))\n",
    "    print( \"Predicted Score (Linear Regres) = \" + str(np.rint(linear_regressor.predict(input)))) "
   ]
  },
  {
   "cell_type": "code",
   "execution_count": null,
   "id": "42e09c86",
   "metadata": {},
   "outputs": [],
   "source": [
    "# Predict\n",
    "test_inning = 1\n",
    "test_over = 10\n",
    "test_ball = 0\n",
    "test_current_score = 66\n",
    "test_current_wickets = 2\n",
    "test_prev_30_runs = 44\n",
    "test_prev_30_wickets = 0\n",
    "test_prev_30_dot_balls = 8\n",
    "test_prev_30_boundaries = 5\n",
    "test_batting_team = 'Mumbai Indians'\n",
    "test_bowling_team = 'Kings XI Punjab'\n",
    "test_venue = 'Punjab Cricket Association IS Bindra Stadium, Mohali'"
   ]
  },
  {
   "cell_type": "code",
   "execution_count": null,
   "id": "8f3fbede",
   "metadata": {},
   "outputs": [],
   "source": [
    "finalScorePrediction(test_inning , test_over , test_ball , test_current_score , test_current_wickets , \n",
    "                         test_prev_30_runs , test_prev_30_wickets , test_prev_30_dot_balls , test_prev_30_boundaries , \n",
    "                        test_venue , test_batting_team , test_bowling_team)"
   ]
  },
  {
   "cell_type": "code",
   "execution_count": null,
   "id": "8ed12234",
   "metadata": {},
   "outputs": [],
   "source": [
    "inning = widgets.RadioButtons( options=['1', '2'], description ='Inning',disabled=False , style={'description_width': 'initial'}, value='1')\n",
    "venue_drop = widgets.Dropdown(options = venue_list , description='Venue' , value='Wankhede Stadium' , style={'description_width': 'initial'})\n",
    "batting_team_drop = widgets.Dropdown(options = batting_team_list , description='Bowling Team' , value='Royal Challengers Bangalore' , style={'description_width': 'initial'})\n",
    "bowling_team_drop = widgets.Dropdown(options = batting_team_list , description='Bowling Team' , value='Mumbai Indians' , style={'description_width': 'initial'})\n",
    "\n",
    "current_score = widgets.IntSlider(min=0, max=300, step=1, description='Current Score',value=73 , style={'description_width': 'initial'})\n",
    "current_wickets = widgets.IntSlider(min=0, max=10, step=1, description='Current Wickets',value=1 , style={'description_width': 'initial'})\n",
    "current_over = widgets.IntSlider(min=0, max=19, step=1, description='Overs Finished',value=10 , style={'description_width': 'initial'})\n",
    "current_ball = widgets.IntSlider(min=0, max=5, step=1, description='Balls Done in Current Over',value=3 , style={'description_width': 'initial'})\n",
    "\n",
    "last_30_score = widgets.IntSlider(min=0, max=100, step=1, description='Runs Scored in Last 30 Balls',value=40 , style={'description_width': 'initial'})\n",
    "last_30_wickets = widgets.IntSlider(min=0, max=10, step=1, description='Wickets lost in last 30 balls',value=1 , style={'description_width': 'initial'})\n",
    "last_30_boundaries = widgets.IntSlider(min=0, max=20, step=1, description='Boundaries hit in last 30 balls',value=5 , style={'description_width': 'initial'})\n",
    "last_30_dotBalls = widgets.IntSlider(min=0, max=25, step=1, description='DotBalls in the last 30 balls',value=7 , style={'description_width': 'initial'})"
   ]
  },
  {
   "cell_type": "code",
   "execution_count": null,
   "id": "66eb8adf",
   "metadata": {},
   "outputs": [],
   "source": [
    "display(inning)\n",
    "display(venue_drop)\n",
    "display(batting_team_drop)\n",
    "display(bowling_team_drop)\n",
    "\n",
    "display(current_score)\n",
    "display(current_wickets)\n",
    "display(current_over)\n",
    "display(current_ball)\n",
    "\n",
    "display(last_30_score)\n",
    "display(last_30_wickets)\n",
    "display(last_30_boundaries)\n",
    "display(last_30_dotBalls)"
   ]
  },
  {
   "cell_type": "code",
   "execution_count": null,
   "id": "379916cf",
   "metadata": {},
   "outputs": [],
   "source": [
    "# Predict\n",
    "test_inning = inning.value\n",
    "test_batting_team = batting_team_drop.value\n",
    "test_bowling_team = bowling_team_drop.value\n",
    "test_venue = venue_drop.value\n",
    "\n",
    "test_over = current_over.value\n",
    "test_ball = current_ball.value\n",
    "test_current_score = current_score.value\n",
    "test_current_wickets = current_wickets.value\n",
    "\n",
    "test_prev_30_runs = last_30_score.value\n",
    "test_prev_30_wickets = last_30_wickets.value\n",
    "test_prev_30_dot_balls = last_30_dotBalls.value\n",
    "test_prev_30_boundaries = last_30_boundaries.value\n",
    "\n",
    "finalScorePrediction(test_inning , test_over , test_ball , test_current_score , test_current_wickets , \n",
    "                         test_prev_30_runs , test_prev_30_wickets , test_prev_30_dot_balls , test_prev_30_boundaries , \n",
    "                        test_venue , test_batting_team , test_bowling_team)"
   ]
  }
 ],
 "metadata": {
  "kernelspec": {
   "display_name": "Python 3",
   "language": "python",
   "name": "python3"
  },
  "language_info": {
   "codemirror_mode": {
    "name": "ipython",
    "version": 3
   },
   "file_extension": ".py",
   "mimetype": "text/x-python",
   "name": "python",
   "nbconvert_exporter": "python",
   "pygments_lexer": "ipython3",
   "version": "3.6.13"
  }
 },
 "nbformat": 4,
 "nbformat_minor": 5
}

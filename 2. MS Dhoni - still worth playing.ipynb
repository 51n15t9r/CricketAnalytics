{
 "cells": [
  {
   "cell_type": "code",
   "execution_count": 130,
   "metadata": {},
   "outputs": [],
   "source": [
    "import pandas as pd\n",
    "import matplotlib.pyplot as plt"
   ]
  },
  {
   "cell_type": "code",
   "execution_count": 131,
   "metadata": {},
   "outputs": [
    {
     "name": "stderr",
     "output_type": "stream",
     "text": [
      "C:\\Users\\utkhare\\Anaconda3\\lib\\site-packages\\IPython\\core\\interactiveshell.py:3146: DtypeWarning: Columns (15) have mixed types.Specify dtype option on import or set low_memory=False.\n",
      "  has_raised = await self.run_ast_nodes(code_ast.body, cell_name,\n"
     ]
    }
   ],
   "source": [
    "df = pd.read_csv(\"C:/Users/utkhare/Desktop/Documents/Onwards2015.csv\")"
   ]
  },
  {
   "cell_type": "markdown",
   "metadata": {},
   "source": [
    "###  Goal"
   ]
  },
  {
   "cell_type": "code",
   "execution_count": 132,
   "metadata": {},
   "outputs": [],
   "source": [
    "# Compare batsmen who bat in the last 5 overs "
   ]
  },
  {
   "cell_type": "markdown",
   "metadata": {},
   "source": [
    "### Inital DF for IPL 2015 - 2018"
   ]
  },
  {
   "cell_type": "code",
   "execution_count": 133,
   "metadata": {},
   "outputs": [],
   "source": [
    "# First Comparison between 2015-2018  \n",
    "df = df[(df.id >= 829705) & (df.id <= 1136620 )]\n",
    "df = df[df.over >= 15]"
   ]
  },
  {
   "cell_type": "code",
   "execution_count": 134,
   "metadata": {},
   "outputs": [
    {
     "data": {
      "text/html": [
       "<div>\n",
       "<style scoped>\n",
       "    .dataframe tbody tr th:only-of-type {\n",
       "        vertical-align: middle;\n",
       "    }\n",
       "\n",
       "    .dataframe tbody tr th {\n",
       "        vertical-align: top;\n",
       "    }\n",
       "\n",
       "    .dataframe thead th {\n",
       "        text-align: right;\n",
       "    }\n",
       "</style>\n",
       "<table border=\"1\" class=\"dataframe\">\n",
       "  <thead>\n",
       "    <tr style=\"text-align: right;\">\n",
       "      <th></th>\n",
       "      <th>batsman</th>\n",
       "      <th>batsman_runs</th>\n",
       "    </tr>\n",
       "  </thead>\n",
       "  <tbody>\n",
       "    <tr>\n",
       "      <th>0</th>\n",
       "      <td>MS Dhoni</td>\n",
       "      <td>891</td>\n",
       "    </tr>\n",
       "    <tr>\n",
       "      <th>1</th>\n",
       "      <td>KA Pollard</td>\n",
       "      <td>548</td>\n",
       "    </tr>\n",
       "    <tr>\n",
       "      <th>2</th>\n",
       "      <td>YK Pathan</td>\n",
       "      <td>462</td>\n",
       "    </tr>\n",
       "    <tr>\n",
       "      <th>3</th>\n",
       "      <td>KD Karthik</td>\n",
       "      <td>448</td>\n",
       "    </tr>\n",
       "    <tr>\n",
       "      <th>4</th>\n",
       "      <td>HH Pandya</td>\n",
       "      <td>434</td>\n",
       "    </tr>\n",
       "  </tbody>\n",
       "</table>\n",
       "</div>"
      ],
      "text/plain": [
       "      batsman  batsman_runs\n",
       "0    MS Dhoni           891\n",
       "1  KA Pollard           548\n",
       "2   YK Pathan           462\n",
       "3  KD Karthik           448\n",
       "4   HH Pandya           434"
      ]
     },
     "execution_count": 134,
     "metadata": {},
     "output_type": "execute_result"
    }
   ],
   "source": [
    "# get all batsmen who bat consistently during > 15 overs\n",
    "\n",
    "batsman_scores = pd.DataFrame ( df.groupby('batsman')['batsman_runs'].sum().sort_values(ascending = False).head(20) ).reset_index()\n",
    "batsman_scores.head()"
   ]
  },
  {
   "cell_type": "code",
   "execution_count": 135,
   "metadata": {},
   "outputs": [
    {
     "data": {
      "text/html": [
       "<div>\n",
       "<style scoped>\n",
       "    .dataframe tbody tr th:only-of-type {\n",
       "        vertical-align: middle;\n",
       "    }\n",
       "\n",
       "    .dataframe tbody tr th {\n",
       "        vertical-align: top;\n",
       "    }\n",
       "\n",
       "    .dataframe thead th {\n",
       "        text-align: right;\n",
       "    }\n",
       "</style>\n",
       "<table border=\"1\" class=\"dataframe\">\n",
       "  <thead>\n",
       "    <tr style=\"text-align: right;\">\n",
       "      <th></th>\n",
       "      <th>batsman</th>\n",
       "      <th>ball</th>\n",
       "    </tr>\n",
       "  </thead>\n",
       "  <tbody>\n",
       "    <tr>\n",
       "      <th>0</th>\n",
       "      <td>MS Dhoni</td>\n",
       "      <td>535</td>\n",
       "    </tr>\n",
       "    <tr>\n",
       "      <th>1</th>\n",
       "      <td>KA Pollard</td>\n",
       "      <td>352</td>\n",
       "    </tr>\n",
       "    <tr>\n",
       "      <th>2</th>\n",
       "      <td>YK Pathan</td>\n",
       "      <td>303</td>\n",
       "    </tr>\n",
       "    <tr>\n",
       "      <th>3</th>\n",
       "      <td>HH Pandya</td>\n",
       "      <td>288</td>\n",
       "    </tr>\n",
       "    <tr>\n",
       "      <th>4</th>\n",
       "      <td>KD Karthik</td>\n",
       "      <td>281</td>\n",
       "    </tr>\n",
       "  </tbody>\n",
       "</table>\n",
       "</div>"
      ],
      "text/plain": [
       "      batsman  ball\n",
       "0    MS Dhoni   535\n",
       "1  KA Pollard   352\n",
       "2   YK Pathan   303\n",
       "3   HH Pandya   288\n",
       "4  KD Karthik   281"
      ]
     },
     "execution_count": 135,
     "metadata": {},
     "output_type": "execute_result"
    }
   ],
   "source": [
    "# Count of balls faced during death overs\n",
    "\n",
    "batsman_balls = pd.DataFrame ( \n",
    "    df[df.over >= 15].groupby('batsman')['ball'].count().sort_values(ascending = False).head(40) ).reset_index()\n",
    "\n",
    "# batsman_balls = batsman_balls[ball >= 100]\n",
    "batsman_balls = batsman_balls[batsman_balls.ball >= 100]\n",
    "\n",
    "batsman_balls.head()"
   ]
  },
  {
   "cell_type": "code",
   "execution_count": 136,
   "metadata": {},
   "outputs": [
    {
     "data": {
      "text/html": [
       "<div>\n",
       "<style scoped>\n",
       "    .dataframe tbody tr th:only-of-type {\n",
       "        vertical-align: middle;\n",
       "    }\n",
       "\n",
       "    .dataframe tbody tr th {\n",
       "        vertical-align: top;\n",
       "    }\n",
       "\n",
       "    .dataframe thead th {\n",
       "        text-align: right;\n",
       "    }\n",
       "</style>\n",
       "<table border=\"1\" class=\"dataframe\">\n",
       "  <thead>\n",
       "    <tr style=\"text-align: right;\">\n",
       "      <th></th>\n",
       "      <th>batsman</th>\n",
       "      <th>id</th>\n",
       "    </tr>\n",
       "  </thead>\n",
       "  <tbody>\n",
       "    <tr>\n",
       "      <th>0</th>\n",
       "      <td>MS Dhoni</td>\n",
       "      <td>46</td>\n",
       "    </tr>\n",
       "    <tr>\n",
       "      <th>1</th>\n",
       "      <td>HH Pandya</td>\n",
       "      <td>36</td>\n",
       "    </tr>\n",
       "    <tr>\n",
       "      <th>2</th>\n",
       "      <td>KA Pollard</td>\n",
       "      <td>34</td>\n",
       "    </tr>\n",
       "    <tr>\n",
       "      <th>3</th>\n",
       "      <td>YK Pathan</td>\n",
       "      <td>32</td>\n",
       "    </tr>\n",
       "    <tr>\n",
       "      <th>4</th>\n",
       "      <td>RA Jadeja</td>\n",
       "      <td>32</td>\n",
       "    </tr>\n",
       "  </tbody>\n",
       "</table>\n",
       "</div>"
      ],
      "text/plain": [
       "      batsman  id\n",
       "0    MS Dhoni  46\n",
       "1   HH Pandya  36\n",
       "2  KA Pollard  34\n",
       "3   YK Pathan  32\n",
       "4   RA Jadeja  32"
      ]
     },
     "execution_count": 136,
     "metadata": {},
     "output_type": "execute_result"
    }
   ],
   "source": [
    "# Number of innings during death overs\n",
    "\n",
    "batsman_innings = pd.DataFrame ( \n",
    "    df[df.over >= 15].groupby('batsman')['id'].nunique().sort_values(ascending = False).head(50) ).reset_index()\n",
    "\n",
    "batsman_innings.head()"
   ]
  },
  {
   "cell_type": "code",
   "execution_count": 137,
   "metadata": {},
   "outputs": [],
   "source": [
    "batsman_final = batsman_scores.merge(batsman_balls, on = 'batsman', how = 'left')\n",
    "batsman_final = batsman_final.merge(batsman_innings, on = 'batsman', how = 'left')\n",
    "\n",
    "batsman_final['strike_rate'] = 100 * batsman_final['batsman_runs'] / batsman_final['ball']\n",
    "batsman_final['rpi'] = batsman_final['batsman_runs'] / batsman_final['id']"
   ]
  },
  {
   "cell_type": "code",
   "execution_count": 138,
   "metadata": {},
   "outputs": [
    {
     "data": {
      "text/html": [
       "<div>\n",
       "<style scoped>\n",
       "    .dataframe tbody tr th:only-of-type {\n",
       "        vertical-align: middle;\n",
       "    }\n",
       "\n",
       "    .dataframe tbody tr th {\n",
       "        vertical-align: top;\n",
       "    }\n",
       "\n",
       "    .dataframe thead th {\n",
       "        text-align: right;\n",
       "    }\n",
       "</style>\n",
       "<table border=\"1\" class=\"dataframe\">\n",
       "  <thead>\n",
       "    <tr style=\"text-align: right;\">\n",
       "      <th></th>\n",
       "      <th>batsman</th>\n",
       "      <th>batsman_runs</th>\n",
       "      <th>ball</th>\n",
       "      <th>id</th>\n",
       "      <th>strike_rate</th>\n",
       "      <th>rpi</th>\n",
       "    </tr>\n",
       "  </thead>\n",
       "  <tbody>\n",
       "    <tr>\n",
       "      <th>0</th>\n",
       "      <td>MS Dhoni</td>\n",
       "      <td>891</td>\n",
       "      <td>535</td>\n",
       "      <td>46</td>\n",
       "      <td>166.542056</td>\n",
       "      <td>19.369565</td>\n",
       "    </tr>\n",
       "    <tr>\n",
       "      <th>1</th>\n",
       "      <td>KA Pollard</td>\n",
       "      <td>548</td>\n",
       "      <td>352</td>\n",
       "      <td>34</td>\n",
       "      <td>155.681818</td>\n",
       "      <td>16.117647</td>\n",
       "    </tr>\n",
       "    <tr>\n",
       "      <th>2</th>\n",
       "      <td>YK Pathan</td>\n",
       "      <td>462</td>\n",
       "      <td>303</td>\n",
       "      <td>32</td>\n",
       "      <td>152.475248</td>\n",
       "      <td>14.437500</td>\n",
       "    </tr>\n",
       "    <tr>\n",
       "      <th>3</th>\n",
       "      <td>KD Karthik</td>\n",
       "      <td>448</td>\n",
       "      <td>281</td>\n",
       "      <td>29</td>\n",
       "      <td>159.430605</td>\n",
       "      <td>15.448276</td>\n",
       "    </tr>\n",
       "    <tr>\n",
       "      <th>4</th>\n",
       "      <td>HH Pandya</td>\n",
       "      <td>434</td>\n",
       "      <td>288</td>\n",
       "      <td>36</td>\n",
       "      <td>150.694444</td>\n",
       "      <td>12.055556</td>\n",
       "    </tr>\n",
       "  </tbody>\n",
       "</table>\n",
       "</div>"
      ],
      "text/plain": [
       "      batsman  batsman_runs  ball  id  strike_rate        rpi\n",
       "0    MS Dhoni           891   535  46   166.542056  19.369565\n",
       "1  KA Pollard           548   352  34   155.681818  16.117647\n",
       "2   YK Pathan           462   303  32   152.475248  14.437500\n",
       "3  KD Karthik           448   281  29   159.430605  15.448276\n",
       "4   HH Pandya           434   288  36   150.694444  12.055556"
      ]
     },
     "execution_count": 138,
     "metadata": {},
     "output_type": "execute_result"
    }
   ],
   "source": [
    "batsman_final.head()"
   ]
  },
  {
   "cell_type": "code",
   "execution_count": 139,
   "metadata": {},
   "outputs": [
    {
     "data": {
      "image/png": "[encoded data removed]",
      "text/plain": [
       "<Figure size 1152x576 with 1 Axes>"
      ]
     },
     "metadata": {
      "needs_background": "light"
     },
     "output_type": "display_data"
    }
   ],
   "source": [
    "plt.figure(figsize = (16,8))\n",
    "plt.scatter(batsman_final.strike_rate, batsman_final.rpi)\n",
    "\n",
    "for i in range(len(batsman_final)): \n",
    "    if (batsman_final['batsman'][i] == 'MS Dhoni'): \n",
    "        plt.text(batsman_final['strike_rate'][i], batsman_final['rpi'][i], batsman_final['batsman'][i], fontsize = 15)\n",
    "    else: \n",
    "        plt.text(batsman_final['strike_rate'][i], batsman_final['rpi'][i], batsman_final['batsman'][i])\n",
    "    \n",
    "plt.axvline(165 , ls = '--', color = 'grey')\n",
    "plt.axhline(18 , ls = '--', color = 'grey')\n",
    "plt.title(\"Death Over Performance. Min 100 balls faced. IPL 2015 - 2018\")\n",
    "plt.xlabel(\"Strike Rate\")\n",
    "plt.ylabel(\"Runs Per Innings in Death Overs\")\n",
    "plt.show()"
   ]
  },
  {
   "cell_type": "markdown",
   "metadata": {},
   "source": [
    "### Initial DF for IPL 2019 - 2020"
   ]
  },
  {
   "cell_type": "code",
   "execution_count": 140,
   "metadata": {},
   "outputs": [
    {
     "name": "stderr",
     "output_type": "stream",
     "text": [
      "C:\\Users\\utkhare\\Anaconda3\\lib\\site-packages\\IPython\\core\\interactiveshell.py:3146: DtypeWarning: Columns (15) have mixed types.Specify dtype option on import or set low_memory=False.\n",
      "  has_raised = await self.run_ast_nodes(code_ast.body, cell_name,\n"
     ]
    }
   ],
   "source": [
    "# Compare batsmen who bat in the last 5 overs \n",
    "# Second Comparison between 2019 - 2020\n",
    "new_df = pd.read_csv(\"C:/Users/utkhare/Desktop/Documents/Onwards2015.csv\")\n",
    "new_df = new_df[(new_df.id >= 1175356) & (new_df.id <= 1237181 )]\n",
    "new_df = new_df[new_df.over >= 15]"
   ]
  },
  {
   "cell_type": "code",
   "execution_count": 141,
   "metadata": {},
   "outputs": [
    {
     "data": {
      "text/html": [
       "<div>\n",
       "<style scoped>\n",
       "    .dataframe tbody tr th:only-of-type {\n",
       "        vertical-align: middle;\n",
       "    }\n",
       "\n",
       "    .dataframe tbody tr th {\n",
       "        vertical-align: top;\n",
       "    }\n",
       "\n",
       "    .dataframe thead th {\n",
       "        text-align: right;\n",
       "    }\n",
       "</style>\n",
       "<table border=\"1\" class=\"dataframe\">\n",
       "  <thead>\n",
       "    <tr style=\"text-align: right;\">\n",
       "      <th></th>\n",
       "      <th>batsman</th>\n",
       "      <th>batsman_runs</th>\n",
       "    </tr>\n",
       "  </thead>\n",
       "  <tbody>\n",
       "    <tr>\n",
       "      <th>0</th>\n",
       "      <td>HH Pandya</td>\n",
       "      <td>516</td>\n",
       "    </tr>\n",
       "    <tr>\n",
       "      <th>1</th>\n",
       "      <td>KA Pollard</td>\n",
       "      <td>406</td>\n",
       "    </tr>\n",
       "    <tr>\n",
       "      <th>2</th>\n",
       "      <td>AB de Villiers</td>\n",
       "      <td>404</td>\n",
       "    </tr>\n",
       "    <tr>\n",
       "      <th>3</th>\n",
       "      <td>MS Dhoni</td>\n",
       "      <td>396</td>\n",
       "    </tr>\n",
       "    <tr>\n",
       "      <th>4</th>\n",
       "      <td>AD Russell</td>\n",
       "      <td>368</td>\n",
       "    </tr>\n",
       "  </tbody>\n",
       "</table>\n",
       "</div>"
      ],
      "text/plain": [
       "          batsman  batsman_runs\n",
       "0       HH Pandya           516\n",
       "1      KA Pollard           406\n",
       "2  AB de Villiers           404\n",
       "3        MS Dhoni           396\n",
       "4      AD Russell           368"
      ]
     },
     "execution_count": 141,
     "metadata": {},
     "output_type": "execute_result"
    }
   ],
   "source": [
    "# get all batsmen who bat consistently during > 15 overs\n",
    "\n",
    "batsman_scores = pd.DataFrame ( new_df.groupby('batsman')['batsman_runs'].sum().sort_values(ascending = False).head(20) ).reset_index()\n",
    "batsman_scores.head()"
   ]
  },
  {
   "cell_type": "code",
   "execution_count": 142,
   "metadata": {},
   "outputs": [
    {
     "data": {
      "text/html": [
       "<div>\n",
       "<style scoped>\n",
       "    .dataframe tbody tr th:only-of-type {\n",
       "        vertical-align: middle;\n",
       "    }\n",
       "\n",
       "    .dataframe tbody tr th {\n",
       "        vertical-align: top;\n",
       "    }\n",
       "\n",
       "    .dataframe thead th {\n",
       "        text-align: right;\n",
       "    }\n",
       "</style>\n",
       "<table border=\"1\" class=\"dataframe\">\n",
       "  <thead>\n",
       "    <tr style=\"text-align: right;\">\n",
       "      <th></th>\n",
       "      <th>batsman</th>\n",
       "      <th>ball</th>\n",
       "    </tr>\n",
       "  </thead>\n",
       "  <tbody>\n",
       "    <tr>\n",
       "      <th>0</th>\n",
       "      <td>HH Pandya</td>\n",
       "      <td>277</td>\n",
       "    </tr>\n",
       "    <tr>\n",
       "      <th>1</th>\n",
       "      <td>MS Dhoni</td>\n",
       "      <td>255</td>\n",
       "    </tr>\n",
       "    <tr>\n",
       "      <th>2</th>\n",
       "      <td>KA Pollard</td>\n",
       "      <td>211</td>\n",
       "    </tr>\n",
       "    <tr>\n",
       "      <th>3</th>\n",
       "      <td>AB de Villiers</td>\n",
       "      <td>176</td>\n",
       "    </tr>\n",
       "    <tr>\n",
       "      <th>4</th>\n",
       "      <td>MP Stoinis</td>\n",
       "      <td>175</td>\n",
       "    </tr>\n",
       "  </tbody>\n",
       "</table>\n",
       "</div>"
      ],
      "text/plain": [
       "          batsman  ball\n",
       "0       HH Pandya   277\n",
       "1        MS Dhoni   255\n",
       "2      KA Pollard   211\n",
       "3  AB de Villiers   176\n",
       "4      MP Stoinis   175"
      ]
     },
     "execution_count": 142,
     "metadata": {},
     "output_type": "execute_result"
    }
   ],
   "source": [
    "# Count of balls faced during death overs\n",
    "\n",
    "batsman_balls = pd.DataFrame ( \n",
    "    new_df[new_df.over >= 15].groupby('batsman')['ball'].count().sort_values(ascending = False).head(40) ).reset_index()\n",
    "\n",
    "# Since we used 100 balls as benchmark for 4 years during IPL 2015-2018 calculation\n",
    "# using 50 balls as benchmark here for IPL 2019-2020\n",
    "# batsman_balls = batsman_balls[ball >= 50]\n",
    "batsman_balls = batsman_balls[batsman_balls.ball >= 50]\n",
    "\n",
    "batsman_balls.head()"
   ]
  },
  {
   "cell_type": "code",
   "execution_count": 143,
   "metadata": {},
   "outputs": [
    {
     "data": {
      "text/html": [
       "<div>\n",
       "<style scoped>\n",
       "    .dataframe tbody tr th:only-of-type {\n",
       "        vertical-align: middle;\n",
       "    }\n",
       "\n",
       "    .dataframe tbody tr th {\n",
       "        vertical-align: top;\n",
       "    }\n",
       "\n",
       "    .dataframe thead th {\n",
       "        text-align: right;\n",
       "    }\n",
       "</style>\n",
       "<table border=\"1\" class=\"dataframe\">\n",
       "  <thead>\n",
       "    <tr style=\"text-align: right;\">\n",
       "      <th></th>\n",
       "      <th>batsman</th>\n",
       "      <th>id</th>\n",
       "    </tr>\n",
       "  </thead>\n",
       "  <tbody>\n",
       "    <tr>\n",
       "      <th>0</th>\n",
       "      <td>HH Pandya</td>\n",
       "      <td>25</td>\n",
       "    </tr>\n",
       "    <tr>\n",
       "      <th>1</th>\n",
       "      <td>MP Stoinis</td>\n",
       "      <td>20</td>\n",
       "    </tr>\n",
       "    <tr>\n",
       "      <th>2</th>\n",
       "      <td>KA Pollard</td>\n",
       "      <td>20</td>\n",
       "    </tr>\n",
       "    <tr>\n",
       "      <th>3</th>\n",
       "      <td>MS Dhoni</td>\n",
       "      <td>20</td>\n",
       "    </tr>\n",
       "    <tr>\n",
       "      <th>4</th>\n",
       "      <td>RR Pant</td>\n",
       "      <td>19</td>\n",
       "    </tr>\n",
       "  </tbody>\n",
       "</table>\n",
       "</div>"
      ],
      "text/plain": [
       "      batsman  id\n",
       "0   HH Pandya  25\n",
       "1  MP Stoinis  20\n",
       "2  KA Pollard  20\n",
       "3    MS Dhoni  20\n",
       "4     RR Pant  19"
      ]
     },
     "execution_count": 143,
     "metadata": {},
     "output_type": "execute_result"
    }
   ],
   "source": [
    "# Number of innings during death overs\n",
    "\n",
    "batsman_innings = pd.DataFrame ( \n",
    "    new_df[new_df.over >= 15].groupby('batsman')['id'].nunique().sort_values(ascending = False).head(50) ).reset_index()\n",
    "\n",
    "batsman_innings.head()"
   ]
  },
  {
   "cell_type": "code",
   "execution_count": 144,
   "metadata": {},
   "outputs": [],
   "source": [
    "batsman_final = batsman_scores.merge(batsman_balls, on = 'batsman', how = 'left')\n",
    "batsman_final = batsman_final.merge(batsman_innings, on = 'batsman', how = 'left')\n",
    "\n",
    "batsman_final['strike_rate'] = 100 * batsman_final['batsman_runs'] / batsman_final['ball']\n",
    "batsman_final['rpi'] = batsman_final['batsman_runs'] / batsman_final['id']"
   ]
  },
  {
   "cell_type": "code",
   "execution_count": 145,
   "metadata": {},
   "outputs": [
    {
     "data": {
      "text/html": [
       "<div>\n",
       "<style scoped>\n",
       "    .dataframe tbody tr th:only-of-type {\n",
       "        vertical-align: middle;\n",
       "    }\n",
       "\n",
       "    .dataframe tbody tr th {\n",
       "        vertical-align: top;\n",
       "    }\n",
       "\n",
       "    .dataframe thead th {\n",
       "        text-align: right;\n",
       "    }\n",
       "</style>\n",
       "<table border=\"1\" class=\"dataframe\">\n",
       "  <thead>\n",
       "    <tr style=\"text-align: right;\">\n",
       "      <th></th>\n",
       "      <th>batsman</th>\n",
       "      <th>batsman_runs</th>\n",
       "      <th>ball</th>\n",
       "      <th>id</th>\n",
       "      <th>strike_rate</th>\n",
       "      <th>rpi</th>\n",
       "    </tr>\n",
       "  </thead>\n",
       "  <tbody>\n",
       "    <tr>\n",
       "      <th>0</th>\n",
       "      <td>HH Pandya</td>\n",
       "      <td>516</td>\n",
       "      <td>277</td>\n",
       "      <td>25</td>\n",
       "      <td>186.281588</td>\n",
       "      <td>20.640000</td>\n",
       "    </tr>\n",
       "    <tr>\n",
       "      <th>1</th>\n",
       "      <td>KA Pollard</td>\n",
       "      <td>406</td>\n",
       "      <td>211</td>\n",
       "      <td>20</td>\n",
       "      <td>192.417062</td>\n",
       "      <td>20.300000</td>\n",
       "    </tr>\n",
       "    <tr>\n",
       "      <th>2</th>\n",
       "      <td>AB de Villiers</td>\n",
       "      <td>404</td>\n",
       "      <td>176</td>\n",
       "      <td>15</td>\n",
       "      <td>229.545455</td>\n",
       "      <td>26.933333</td>\n",
       "    </tr>\n",
       "    <tr>\n",
       "      <th>3</th>\n",
       "      <td>MS Dhoni</td>\n",
       "      <td>396</td>\n",
       "      <td>255</td>\n",
       "      <td>20</td>\n",
       "      <td>155.294118</td>\n",
       "      <td>19.800000</td>\n",
       "    </tr>\n",
       "    <tr>\n",
       "      <th>4</th>\n",
       "      <td>AD Russell</td>\n",
       "      <td>368</td>\n",
       "      <td>162</td>\n",
       "      <td>14</td>\n",
       "      <td>227.160494</td>\n",
       "      <td>26.285714</td>\n",
       "    </tr>\n",
       "  </tbody>\n",
       "</table>\n",
       "</div>"
      ],
      "text/plain": [
       "          batsman  batsman_runs  ball  id  strike_rate        rpi\n",
       "0       HH Pandya           516   277  25   186.281588  20.640000\n",
       "1      KA Pollard           406   211  20   192.417062  20.300000\n",
       "2  AB de Villiers           404   176  15   229.545455  26.933333\n",
       "3        MS Dhoni           396   255  20   155.294118  19.800000\n",
       "4      AD Russell           368   162  14   227.160494  26.285714"
      ]
     },
     "execution_count": 145,
     "metadata": {},
     "output_type": "execute_result"
    }
   ],
   "source": [
    "batsman_final.head()"
   ]
  },
  {
   "cell_type": "code",
   "execution_count": 146,
   "metadata": {},
   "outputs": [
    {
     "data": {
      "image/png": "[encoded data removed]",
      "text/plain": [
       "<Figure size 1152x576 with 1 Axes>"
      ]
     },
     "metadata": {
      "needs_background": "light"
     },
     "output_type": "display_data"
    }
   ],
   "source": [
    "plt.figure(figsize = (16,8))\n",
    "plt.scatter(batsman_final.strike_rate, batsman_final.rpi)\n",
    "\n",
    "for i in range(len(batsman_final)): \n",
    "    if (batsman_final['batsman'][i] == 'MS Dhoni'): \n",
    "        plt.text(batsman_final['strike_rate'][i], batsman_final['rpi'][i], batsman_final['batsman'][i], fontsize = 15)\n",
    "    else: \n",
    "        plt.text(batsman_final['strike_rate'][i], batsman_final['rpi'][i], batsman_final['batsman'][i])\n",
    "    \n",
    "plt.axvline(165 , ls = '--', color = 'grey')\n",
    "plt.axhline(18 , ls = '--', color = 'grey')\n",
    "plt.title(\"Death Over Performance. Min 50 balls faced. IPL 2019 - 2020\")\n",
    "plt.xlabel(\"Strike Rate\")\n",
    "plt.ylabel(\"Runs Per Innings in Death Overs\")\n",
    "plt.show()"
   ]
  },
  {
   "cell_type": "markdown",
   "metadata": {},
   "source": [
    "### Conclusion"
   ]
  },
  {
   "cell_type": "code",
   "execution_count": 129,
   "metadata": {},
   "outputs": [],
   "source": [
    "# While the number of runs scored by MS continues to be among the best, \n",
    "# his SR has dropped considerably in the last 2 years to be considered a finisher. \n",
    "# he still hasn't gone down to the bottom left quadrant though"
   ]
  },
  {
   "cell_type": "code",
   "execution_count": null,
   "metadata": {},
   "outputs": [],
   "source": []
  }
 ],
 "metadata": {
  "kernelspec": {
   "display_name": "Python 3",
   "language": "python",
   "name": "python3"
  },
  "language_info": {
   "codemirror_mode": {
    "name": "ipython",
    "version": 3
   },
   "file_extension": ".py",
   "mimetype": "text/x-python",
   "name": "python",
   "nbconvert_exporter": "python",
   "pygments_lexer": "ipython3",
   "version": "3.8.5"
  }
 },
 "nbformat": 4,
 "nbformat_minor": 4
}

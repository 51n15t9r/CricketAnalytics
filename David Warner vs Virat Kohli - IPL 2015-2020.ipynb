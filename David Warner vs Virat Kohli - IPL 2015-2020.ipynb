{
 "cells": [
  {
   "cell_type": "code",
   "execution_count": 1011,
   "metadata": {},
   "outputs": [],
   "source": [
    "import pandas as pd\n",
    "import numpy as np\n",
    "import matplotlib.pyplot as plt\n"
   ]
  },
  {
   "cell_type": "code",
   "execution_count": 1012,
   "metadata": {},
   "outputs": [
    {
     "name": "stderr",
     "output_type": "stream",
     "text": [
      "C:\\Users\\utkhare\\Anaconda3\\lib\\site-packages\\IPython\\core\\interactiveshell.py:3146: DtypeWarning: Columns (15) have mixed types.Specify dtype option on import or set low_memory=False.\n",
      "  has_raised = await self.run_ast_nodes(code_ast.body, cell_name,\n"
     ]
    }
   ],
   "source": [
    "# IPL ball by ball data from 2008 - 2020 from kaggle. Kept only the data from 2015-2020 onwards and removed rest\n",
    "df = pd.read_csv(\"C:/Users/utkhare/Desktop/Documents/Onwards2015.csv\")\n",
    "\n",
    "\n",
    "# \"Delhi Capitals\" renamed as \"Delhi Daredevils\" for better team wise analysis\n",
    "# \"Rising Pune Supergiant\" renamed as \"Rising Pune Supergiants\" for better team wise analysis\n",
    "# Added extra columns for bowler type etc - manually. This results in the warning below\n",
    "# Removed some columns which I felt were not useful"
   ]
  },
  {
   "cell_type": "markdown",
   "metadata": {},
   "source": [
    "### Inital DataFrames"
   ]
  },
  {
   "cell_type": "code",
   "execution_count": 1013,
   "metadata": {},
   "outputs": [],
   "source": [
    "warner_df = df[df.batsman == 'DA Warner']"
   ]
  },
  {
   "cell_type": "code",
   "execution_count": 1014,
   "metadata": {},
   "outputs": [],
   "source": [
    "virat_df = df[df.batsman == 'V Kohli']"
   ]
  },
  {
   "cell_type": "code",
   "execution_count": 1015,
   "metadata": {},
   "outputs": [],
   "source": [
    "# Data from 2015 - 2020\n",
    "# Goals -: \n",
    "# Strike Rate Comparison in Power Play, Middle Overs and End\n",
    "# Runs Scored Comparison against other teams per innings (not average)\n",
    "# Runs Scored Per IPL edition Comparison \n",
    "# Top run getters of IPL between 2015 - 2020\n",
    "# Strike Rate against best IPL bowlers (Bumrah, ... ??)\n",
    "# Boundary Percentage in match phase \n",
    "# Number of innings in each run bracket (0-10), (11-20) (21-30) ... \n",
    "# Comparing Virat's 100 (58) with Warner's 100(55)"
   ]
  },
  {
   "cell_type": "code",
   "execution_count": 1016,
   "metadata": {},
   "outputs": [
    {
     "data": {
      "text/plain": [
       "Index(['id', 'inning', 'over', 'ball', 'batsman', 'non_striker', 'bowler',\n",
       "       'batsman_runs', 'is_wicket', 'dismissal_kind', 'player_dismissed',\n",
       "       'batting_team', 'bowling_team', 'Bowler Type', 'Bowler Speed',\n",
       "       'Batsman Type'],\n",
       "      dtype='object')"
      ]
     },
     "execution_count": 1016,
     "metadata": {},
     "output_type": "execute_result"
    }
   ],
   "source": [
    "df.columns"
   ]
  },
  {
   "cell_type": "markdown",
   "metadata": {},
   "source": [
    "### Strike Rate Comparison in each phase "
   ]
  },
  {
   "cell_type": "code",
   "execution_count": 1022,
   "metadata": {},
   "outputs": [
    {
     "data": {
      "text/plain": [
       "(1727, 1310, 254)"
      ]
     },
     "execution_count": 1022,
     "metadata": {},
     "output_type": "execute_result"
    }
   ],
   "source": [
    "# Warner's Score in each phase of innings\n",
    "# Overs 0 - 5 - PowerPlay \n",
    "# Overs 6 - 15 - Middle Overs\n",
    "# Overs 16 - 20 - Death Overs\n",
    "\n",
    "(warner_df[(warner_df.over < 6)].batsman_runs.sum() , \n",
    "warner_df[(warner_df.over >= 6) & (warner_df.over < 15)].batsman_runs.sum() , \n",
    "warner_df[(warner_df.over >= 15)].batsman_runs.sum() ) "
   ]
  },
  {
   "cell_type": "code",
   "execution_count": 1023,
   "metadata": {},
   "outputs": [
    {
     "data": {
      "text/plain": [
       "(138.82636655948554, 139.06581740976645, 180.1418439716312)"
      ]
     },
     "execution_count": 1023,
     "metadata": {},
     "output_type": "execute_result"
    }
   ],
   "source": [
    "warner_sr = (100 * warner_df[(warner_df.over < 6)].batsman_runs.sum() / \n",
    "                len (warner_df[(warner_df.over < 6)].batsman_runs), \n",
    "                                                                           \n",
    "             100 *   warner_df[(warner_df.over >= 6) & (warner_df.over < 15)].batsman_runs.sum() / \n",
    "                 len(warner_df[(warner_df.over >= 6) & (warner_df.over < 15)].batsman_runs) , \n",
    "                                                                           \n",
    "             100 *    warner_df[(warner_df.over >= 15)].batsman_runs.sum() / \n",
    "                 len(warner_df[(warner_df.over >= 15)].batsman_runs))\n",
    "\n",
    "warner_sr"
   ]
  },
  {
   "cell_type": "code",
   "execution_count": 1020,
   "metadata": {},
   "outputs": [
    {
     "data": {
      "text/plain": [
       "(123.58393408856848, 127.71503040834057, 190.72847682119206)"
      ]
     },
     "execution_count": 1020,
     "metadata": {},
     "output_type": "execute_result"
    }
   ],
   "source": [
    "# Virat's SR in each phase of innings\n",
    "# Overs 0 - 5 - PowerPlay \n",
    "# Overs 6 - 15 - Middle Overs\n",
    "# Overs 16 - 20 - Death Overs\n",
    "\n",
    "virat_sr = (100 * virat_df[(virat_df.over < 6)].batsman_runs.sum() / \n",
    "                len (virat_df[(virat_df.over < 6)].batsman_runs), \n",
    "                                                                           \n",
    "             100 *   virat_df[(virat_df.over >= 6) & (virat_df.over < 15)].batsman_runs.sum() / \n",
    "                len(virat_df[(virat_df.over >= 6) & (virat_df.over < 15)].batsman_runs) , \n",
    "                                                                           \n",
    "             100 *    virat_df[(virat_df.over >= 15)].batsman_runs.sum() / \n",
    "                len(virat_df[(virat_df.over >= 15)].batsman_runs))\n",
    "\n",
    "virat_sr"
   ]
  },
  {
   "cell_type": "code",
   "execution_count": 1025,
   "metadata": {},
   "outputs": [
    {
     "data": {
      "image/png": "[encoded data removed]",
      "text/plain": [
       "<Figure size 432x288 with 1 Axes>"
      ]
     },
     "metadata": {
      "needs_background": "light"
     },
     "output_type": "display_data"
    }
   ],
   "source": [
    "## Some Visualization \n",
    "\n",
    "X = ['PowerPlay','Middle Overs','Death Overs']\n",
    "X_axis = np.arange(len(X))\n",
    "  \n",
    "plt.bar(X_axis - 0.1, virat_sr, 0.2, label = 'Virat')\n",
    "plt.bar(X_axis + 0.1, warner_sr, 0.2, label = 'Warner')\n",
    "  \n",
    "plt.xticks(X_axis, X)\n",
    "plt.xlabel(\"Overs\")\n",
    "plt.ylabel(\"Strike Rate\")\n",
    "plt.title(\"Phase Wise SR Comparison\")\n",
    "plt.legend()\n",
    "plt.show()"
   ]
  },
  {
   "cell_type": "markdown",
   "metadata": {},
   "source": [
    "### Performances against other teams (total runs, runs per innings)"
   ]
  },
  {
   "cell_type": "code",
   "execution_count": 1026,
   "metadata": {},
   "outputs": [
    {
     "data": {
      "text/plain": [
       "Index(['id', 'inning', 'over', 'ball', 'batsman', 'non_striker', 'bowler',\n",
       "       'batsman_runs', 'is_wicket', 'dismissal_kind', 'player_dismissed',\n",
       "       'batting_team', 'bowling_team', 'Bowler Type', 'Bowler Speed',\n",
       "       'Batsman Type'],\n",
       "      dtype='object')"
      ]
     },
     "execution_count": 1026,
     "metadata": {},
     "output_type": "execute_result"
    }
   ],
   "source": [
    "df.columns"
   ]
  },
  {
   "cell_type": "code",
   "execution_count": 1028,
   "metadata": {},
   "outputs": [
    {
     "data": {
      "text/plain": [
       "bowling_team\n",
       "Chennai Super Kings      258\n",
       "Delhi Daredevils         372\n",
       "Gujarat Lions            336\n",
       "Kings XI Punjab          609\n",
       "Kolkata Knight Riders    578\n",
       "Name: batsman_runs, dtype: int64"
      ]
     },
     "execution_count": 1028,
     "metadata": {},
     "output_type": "execute_result"
    }
   ],
   "source": [
    "# Warner's Total score against each of the teams\n",
    "warner_score_each_team = warner_df.groupby('bowling_team').batsman_runs.sum()\n",
    "\n",
    "warner_score_each_team.head()"
   ]
  },
  {
   "cell_type": "code",
   "execution_count": 1029,
   "metadata": {},
   "outputs": [
    {
     "data": {
      "text/plain": [
       "bowling_team\n",
       "Chennai Super Kings       6\n",
       "Delhi Daredevils         11\n",
       "Gujarat Lions             5\n",
       "Kings XI Punjab          10\n",
       "Kolkata Knight Riders    12\n",
       "Name: id, dtype: int64"
      ]
     },
     "execution_count": 1029,
     "metadata": {},
     "output_type": "execute_result"
    }
   ],
   "source": [
    "# Warner's Total innings against each of the teams \n",
    "warner_innings_each_team = warner_df.groupby('bowling_team').id.nunique()\n",
    "\n",
    "warner_innings_each_team.head()"
   ]
  },
  {
   "cell_type": "code",
   "execution_count": 1030,
   "metadata": {},
   "outputs": [
    {
     "data": {
      "text/plain": [
       "bowling_team\n",
       "Chennai Super Kings      43.000000\n",
       "Delhi Daredevils         33.818182\n",
       "Gujarat Lions            67.200000\n",
       "Kings XI Punjab          60.900000\n",
       "Kolkata Knight Riders    48.166667\n",
       "dtype: float64"
      ]
     },
     "execution_count": 1030,
     "metadata": {},
     "output_type": "execute_result"
    }
   ],
   "source": [
    "# Warner's RPI against each team \n",
    "warner_rpi = (warner_score_each_team / warner_innings_each_team)\n",
    "warner_rpi.head()"
   ]
  },
  {
   "cell_type": "code",
   "execution_count": 1031,
   "metadata": {},
   "outputs": [
    {
     "data": {
      "text/plain": [
       "bowling_team\n",
       "Chennai Super Kings      292\n",
       "Delhi Daredevils         463\n",
       "Gujarat Lions            283\n",
       "Kings XI Punjab          388\n",
       "Kolkata Knight Riders    513\n",
       "Name: batsman_runs, dtype: int64"
      ]
     },
     "execution_count": 1031,
     "metadata": {},
     "output_type": "execute_result"
    }
   ],
   "source": [
    "# Virat's Total score against each of the teams\n",
    "virat_score_each_team = virat_df.groupby('bowling_team').batsman_runs.sum()\n",
    "\n",
    "virat_score_each_team.head()"
   ]
  },
  {
   "cell_type": "code",
   "execution_count": 1032,
   "metadata": {},
   "outputs": [
    {
     "data": {
      "text/plain": [
       "bowling_team\n",
       "Chennai Super Kings       9\n",
       "Delhi Daredevils         11\n",
       "Gujarat Lions             5\n",
       "Kings XI Punjab          11\n",
       "Kolkata Knight Riders    12\n",
       "Name: id, dtype: int64"
      ]
     },
     "execution_count": 1032,
     "metadata": {},
     "output_type": "execute_result"
    }
   ],
   "source": [
    "# Virat's Total innings against each of the teams \n",
    "virat_innings_each_team = virat_df.groupby('bowling_team').id.nunique()\n",
    "\n",
    "virat_innings_each_team.head()"
   ]
  },
  {
   "cell_type": "code",
   "execution_count": 1033,
   "metadata": {},
   "outputs": [
    {
     "data": {
      "text/plain": [
       "bowling_team\n",
       "Chennai Super Kings      32.444444\n",
       "Delhi Daredevils         42.090909\n",
       "Gujarat Lions            56.600000\n",
       "Kings XI Punjab          35.272727\n",
       "Kolkata Knight Riders    42.750000\n",
       "dtype: float64"
      ]
     },
     "execution_count": 1033,
     "metadata": {},
     "output_type": "execute_result"
    }
   ],
   "source": [
    "# Virat's RPI against each team \n",
    "virat_rpi = (virat_score_each_team / virat_innings_each_team)\n",
    "virat_rpi.head()"
   ]
  },
  {
   "cell_type": "code",
   "execution_count": 1034,
   "metadata": {},
   "outputs": [
    {
     "data": {
      "image/png": "[encoded data removed]",
      "text/plain": [
       "<Figure size 432x288 with 1 Axes>"
      ]
     },
     "metadata": {
      "needs_background": "light"
     },
     "output_type": "display_data"
    }
   ],
   "source": [
    "## Some Visualization \n",
    "\n",
    "X = ['CSK','DD','GL','KXIP','KKR','MI', 'RR','RPS','SRH/RCB']\n",
    "X_axis = np.arange(len(X))\n",
    "  \n",
    "plt.bar(X_axis - 0.1, virat_rpi, 0.2, label = 'Virat')\n",
    "plt.bar(X_axis + 0.1, warner_rpi, 0.2, label = 'Warner')\n",
    "  \n",
    "plt.xticks(X_axis, X)\n",
    "plt.xlabel(\"Opponent Team\")\n",
    "plt.ylabel(\"RPI\")\n",
    "plt.title(\"Team Comparison\")\n",
    "plt.legend()\n",
    "plt.show()"
   ]
  },
  {
   "cell_type": "markdown",
   "metadata": {},
   "source": [
    "# Runs Per IPL Edition"
   ]
  },
  {
   "cell_type": "code",
   "execution_count": 1035,
   "metadata": {},
   "outputs": [],
   "source": [
    "# We don't have date record in the CSV \n",
    "# We can rely on id (matching the cricinfo match Id, \n",
    "# but that requires some bad coding with MAGIC numbers)\n",
    "# 829705 - 829823 : 2015 \n",
    "# 980901 - 981019 : 2016 \n",
    "# 1082591 - 1082650 : 2017 \n",
    "# 1136561- 1136620 : 2018 \n",
    "# 1175356 - 1181768 : 2019 \n",
    "# 1216492 - 1237181 : 2020"
   ]
  },
  {
   "cell_type": "code",
   "execution_count": 1036,
   "metadata": {},
   "outputs": [
    {
     "data": {
      "text/html": [
       "<div>\n",
       "<style scoped>\n",
       "    .dataframe tbody tr th:only-of-type {\n",
       "        vertical-align: middle;\n",
       "    }\n",
       "\n",
       "    .dataframe tbody tr th {\n",
       "        vertical-align: top;\n",
       "    }\n",
       "\n",
       "    .dataframe thead th {\n",
       "        text-align: right;\n",
       "    }\n",
       "</style>\n",
       "<table border=\"1\" class=\"dataframe\">\n",
       "  <thead>\n",
       "    <tr style=\"text-align: right;\">\n",
       "      <th></th>\n",
       "      <th>id</th>\n",
       "      <th>inning</th>\n",
       "      <th>over</th>\n",
       "      <th>ball</th>\n",
       "      <th>batsman</th>\n",
       "      <th>non_striker</th>\n",
       "      <th>bowler</th>\n",
       "      <th>batsman_runs</th>\n",
       "      <th>is_wicket</th>\n",
       "      <th>dismissal_kind</th>\n",
       "      <th>player_dismissed</th>\n",
       "      <th>batting_team</th>\n",
       "      <th>bowling_team</th>\n",
       "      <th>Bowler Type</th>\n",
       "      <th>Bowler Speed</th>\n",
       "      <th>Batsman Type</th>\n",
       "    </tr>\n",
       "  </thead>\n",
       "  <tbody>\n",
       "    <tr>\n",
       "      <th>0</th>\n",
       "      <td>829705</td>\n",
       "      <td>2</td>\n",
       "      <td>0</td>\n",
       "      <td>2</td>\n",
       "      <td>G Gambhir</td>\n",
       "      <td>RV Uthappa</td>\n",
       "      <td>SL Malinga</td>\n",
       "      <td>0</td>\n",
       "      <td>0</td>\n",
       "      <td>NaN</td>\n",
       "      <td>NaN</td>\n",
       "      <td>Kolkata Knight Riders</td>\n",
       "      <td>Mumbai Indians</td>\n",
       "      <td>Right arm pace</td>\n",
       "      <td>Fast</td>\n",
       "      <td>Left</td>\n",
       "    </tr>\n",
       "  </tbody>\n",
       "</table>\n",
       "</div>"
      ],
      "text/plain": [
       "       id  inning  over  ball    batsman non_striker      bowler  \\\n",
       "0  829705       2     0     2  G Gambhir  RV Uthappa  SL Malinga   \n",
       "\n",
       "   batsman_runs  is_wicket dismissal_kind player_dismissed  \\\n",
       "0             0          0            NaN              NaN   \n",
       "\n",
       "            batting_team    bowling_team     Bowler Type Bowler Speed  \\\n",
       "0  Kolkata Knight Riders  Mumbai Indians  Right arm pace         Fast   \n",
       "\n",
       "  Batsman Type  \n",
       "0         Left  "
      ]
     },
     "execution_count": 1036,
     "metadata": {},
     "output_type": "execute_result"
    }
   ],
   "source": [
    "df.head(1)"
   ]
  },
  {
   "cell_type": "code",
   "execution_count": 1037,
   "metadata": {},
   "outputs": [
    {
     "data": {
      "text/plain": [
       "562"
      ]
     },
     "execution_count": 1037,
     "metadata": {},
     "output_type": "execute_result"
    }
   ],
   "source": [
    "# Sample Check for 2015 Warner Runs Scored\n",
    "warner_df[(warner_df.id >= 829705) & (warner_df.id <= 829823)].batsman_runs.sum() "
   ]
  },
  {
   "cell_type": "code",
   "execution_count": 1038,
   "metadata": {},
   "outputs": [
    {
     "data": {
      "text/plain": [
       "(562, 848, 641, 0, 692, 548)"
      ]
     },
     "execution_count": 1038,
     "metadata": {},
     "output_type": "execute_result"
    }
   ],
   "source": [
    "# Warner record in each IPL \n",
    "# Warner missed the 2018 edition due to ban\n",
    "\n",
    "warner_total = ( \n",
    "    warner_df[(warner_df.id >= 829705) & (warner_df.id <= 829823)].batsman_runs.sum() , \n",
    "    warner_df[(warner_df.id >= 980901) & (warner_df.id <= 981019)].batsman_runs.sum() , \n",
    "    warner_df[(warner_df.id >= 1082591) & (warner_df.id <= 1082650)].batsman_runs.sum() , \n",
    "    warner_df[(warner_df.id >= 1136561) & (warner_df.id <= 1136620)].batsman_runs.sum() , \n",
    "    warner_df[(warner_df.id >= 1175356) & (warner_df.id <= 1181768)].batsman_runs.sum() , \n",
    "    warner_df[(warner_df.id >= 1216492) & (warner_df.id <= 1237181)].batsman_runs.sum() , \n",
    ")\n",
    "\n",
    "warner_total"
   ]
  },
  {
   "cell_type": "code",
   "execution_count": 1039,
   "metadata": {},
   "outputs": [
    {
     "data": {
      "text/plain": [
       "(505, 973, 308, 530, 464, 466)"
      ]
     },
     "execution_count": 1039,
     "metadata": {},
     "output_type": "execute_result"
    }
   ],
   "source": [
    "# Virat record in each IPL \n",
    "\n",
    "virat_total = ( \n",
    "    virat_df[(virat_df.id >= 829705) & (virat_df.id <= 829823)].batsman_runs.sum() ,\n",
    "    virat_df[(virat_df.id >= 980901) & (virat_df.id <= 981019)].batsman_runs.sum() , \n",
    "    virat_df[(virat_df.id >= 1082591) & (virat_df.id <= 1082650)].batsman_runs.sum() , \n",
    "    virat_df[(virat_df.id >= 1136561) & (virat_df.id <= 1136620)].batsman_runs.sum() , \n",
    "    virat_df[(virat_df.id >= 1175356) & (virat_df.id <= 1181768)].batsman_runs.sum() , \n",
    "    virat_df[(virat_df.id >= 1216492) & (virat_df.id <= 1237181)].batsman_runs.sum() , \n",
    ")\n",
    "\n",
    "virat_total"
   ]
  },
  {
   "cell_type": "code",
   "execution_count": 1040,
   "metadata": {},
   "outputs": [
    {
     "data": {
      "image/png": "[encoded data removed]",
      "text/plain": [
       "<Figure size 432x288 with 1 Axes>"
      ]
     },
     "metadata": {
      "needs_background": "light"
     },
     "output_type": "display_data"
    }
   ],
   "source": [
    "## Some Visualization \n",
    "\n",
    "X = ['2015','2016','2017','2018','2019','2020']\n",
    "X_axis = np.arange(len(X))\n",
    "  \n",
    "plt.bar(X_axis - 0.1, virat_total, 0.2, label = 'Virat')\n",
    "plt.bar(X_axis + 0.1, warner_total, 0.2, label = 'Warner')\n",
    "  \n",
    "plt.xticks(X_axis, X)\n",
    "plt.xlabel(\"Year\")\n",
    "plt.ylabel(\"Runs\")\n",
    "plt.title(\"Total Score Comparison\")\n",
    "plt.legend()\n",
    "plt.show()"
   ]
  },
  {
   "cell_type": "markdown",
   "metadata": {},
   "source": [
    "### Top Total Run Getters in IPL since 2015"
   ]
  },
  {
   "cell_type": "code",
   "execution_count": 1041,
   "metadata": {},
   "outputs": [
    {
     "data": {
      "text/plain": [
       "Index(['id', 'inning', 'over', 'ball', 'batsman', 'non_striker', 'bowler',\n",
       "       'batsman_runs', 'is_wicket', 'dismissal_kind', 'player_dismissed',\n",
       "       'batting_team', 'bowling_team', 'Bowler Type', 'Bowler Speed',\n",
       "       'Batsman Type'],\n",
       "      dtype='object')"
      ]
     },
     "execution_count": 1041,
     "metadata": {},
     "output_type": "execute_result"
    }
   ],
   "source": [
    "df.columns"
   ]
  },
  {
   "cell_type": "code",
   "execution_count": 1044,
   "metadata": {},
   "outputs": [
    {
     "data": {
      "text/plain": [
       "batsman\n",
       "DA Warner         3291\n",
       "V Kohli           3246\n",
       "S Dhawan          2969\n",
       "AB de Villiers    2792\n",
       "Name: batsman_runs, dtype: int64"
      ]
     },
     "execution_count": 1044,
     "metadata": {},
     "output_type": "execute_result"
    }
   ],
   "source": [
    "top_batsmen = df.groupby('batsman').batsman_runs.sum().sort_values(ascending = False).head(10)\n",
    "\n",
    "top_batsmen.head(4)"
   ]
  },
  {
   "cell_type": "code",
   "execution_count": 1045,
   "metadata": {},
   "outputs": [
    {
     "data": {
      "text/plain": [
       "<AxesSubplot:ylabel='batsman'>"
      ]
     },
     "execution_count": 1045,
     "metadata": {},
     "output_type": "execute_result"
    },
    {
     "data": {
      "image/png": "[encoded data removed]",
      "text/plain": [
       "<Figure size 432x288 with 1 Axes>"
      ]
     },
     "metadata": {
      "needs_background": "light"
     },
     "output_type": "display_data"
    }
   ],
   "source": [
    "# Some Visualization \n",
    "top_batsmen.iloc[::-1].plot.barh()"
   ]
  },
  {
   "cell_type": "markdown",
   "metadata": {},
   "source": [
    "### Strike Rate against best bowlers of IPL "
   ]
  },
  {
   "cell_type": "code",
   "execution_count": 1046,
   "metadata": {},
   "outputs": [
    {
     "data": {
      "text/plain": [
       "Index(['id', 'inning', 'over', 'ball', 'batsman', 'non_striker', 'bowler',\n",
       "       'batsman_runs', 'is_wicket', 'dismissal_kind', 'player_dismissed',\n",
       "       'batting_team', 'bowling_team', 'Bowler Type', 'Bowler Speed',\n",
       "       'Batsman Type'],\n",
       "      dtype='object')"
      ]
     },
     "execution_count": 1046,
     "metadata": {},
     "output_type": "execute_result"
    }
   ],
   "source": [
    "df.columns"
   ]
  },
  {
   "cell_type": "code",
   "execution_count": 1050,
   "metadata": {},
   "outputs": [
    {
     "data": {
      "text/plain": [
       "bowler\n",
       "YS Chahal         109\n",
       "JJ Bumrah         101\n",
       "B Kumar            92\n",
       "Sandeep Sharma     83\n",
       "Rashid Khan        75\n",
       "DJ Bravo           74\n",
       "Imran Tahir        71\n",
       "MJ McClenaghan     71\n",
       "UT Yadav           65\n",
       "CH Morris          65\n",
       "Name: is_wicket, dtype: int64"
      ]
     },
     "execution_count": 1050,
     "metadata": {},
     "output_type": "execute_result"
    }
   ],
   "source": [
    "# Best Bowler .. Bowlers with most wickets ? \n",
    "# Most Wickets \n",
    "\n",
    "wickets_without_runouts = df[(df.is_wicket == 1) & (df.dismissal_kind != 'run out') ]\n",
    "\n",
    "bowler_most_wickets = wickets_without_runouts.groupby('bowler').is_wicket.sum().sort_values(ascending = False).head(10)\n",
    "\n",
    "bowler_most_wickets"
   ]
  },
  {
   "cell_type": "code",
   "execution_count": 1051,
   "metadata": {},
   "outputs": [],
   "source": [
    "# We need to keep separate lists for Warner and Virat since the top bowlers (Chahal, Bhuvi, Rashid etc) \n",
    "# played for the same teams as them\n",
    "\n",
    "# Considering only Chahal, Bumrah, Bravo, Tahir and McClenaghan for Warner \n",
    "# Considering only Bumrah, Bhuvi, Sandeep Sharma, Rashid Khan, Bravo for Virat \n",
    "# Including Rabada for both since he has been amazing in the last two years"
   ]
  },
  {
   "cell_type": "code",
   "execution_count": 1052,
   "metadata": {},
   "outputs": [
    {
     "data": {
      "text/plain": [
       "(207.69230769230768,\n",
       " 122.58064516129032,\n",
       " 100.0,\n",
       " 190.47619047619048,\n",
       " 157.57575757575756,\n",
       " 162.85714285714286)"
      ]
     },
     "execution_count": 1052,
     "metadata": {},
     "output_type": "execute_result"
    }
   ],
   "source": [
    "warner_sr = ( 100 * warner_df[warner_df.bowler == 'YS Chahal'].batsman_runs.sum() \n",
    "             / warner_df[warner_df.bowler == 'YS Chahal'].batsman_runs.count() , \n",
    "                  \n",
    "              100 *     warner_df[warner_df.bowler == 'JJ Bumrah'].batsman_runs.sum() \n",
    "             / warner_df[warner_df.bowler == 'JJ Bumrah'].batsman_runs.count() , \n",
    "             \n",
    "             100 *     warner_df[warner_df.bowler == 'DJ Bravo'].batsman_runs.sum() \n",
    "             / warner_df[warner_df.bowler == 'DJ Bravo'].batsman_runs.count()  , \n",
    "             \n",
    "             100 *     warner_df[warner_df.bowler == 'Imran Tahir'].batsman_runs.sum() \n",
    "             / warner_df[warner_df.bowler == 'Imran Tahir'].batsman_runs.count() , \n",
    "             \n",
    "             100 *     warner_df[warner_df.bowler == 'MJ McClenaghan'].batsman_runs.sum() \n",
    "             / warner_df[warner_df.bowler == 'MJ McClenaghan'].batsman_runs.count() , \n",
    "              \n",
    "             100 *     warner_df[warner_df.bowler == 'K Rabada'].batsman_runs.sum() \n",
    "             / warner_df[warner_df.bowler == 'K Rabada'].batsman_runs.count()\n",
    "            )\n",
    "\n",
    "warner_sr"
   ]
  },
  {
   "cell_type": "code",
   "execution_count": 1053,
   "metadata": {},
   "outputs": [
    {
     "data": {
      "text/plain": [
       "(146.3768115942029,\n",
       " 135.13513513513513,\n",
       " 122.91666666666667,\n",
       " 94.73684210526316,\n",
       " 132.0,\n",
       " 95.23809523809524)"
      ]
     },
     "execution_count": 1053,
     "metadata": {},
     "output_type": "execute_result"
    }
   ],
   "source": [
    "virat_sr = ( 100 * virat_df[virat_df.bowler == 'JJ Bumrah'].batsman_runs.sum() \n",
    "             / virat_df[virat_df.bowler == 'JJ Bumrah'].batsman_runs.count() , \n",
    "                  \n",
    "              100 *     virat_df[virat_df.bowler == 'B Kumar'].batsman_runs.sum() \n",
    "             / virat_df[virat_df.bowler == 'B Kumar'].batsman_runs.count() , \n",
    "             \n",
    "             100 *     virat_df[virat_df.bowler == 'Sandeep Sharma'].batsman_runs.sum() \n",
    "             / virat_df[virat_df.bowler == 'Sandeep Sharma'].batsman_runs.count()  , \n",
    "             \n",
    "             100 *     virat_df[virat_df.bowler == 'Rashid Khan'].batsman_runs.sum() \n",
    "             / virat_df[virat_df.bowler == 'Rashid Khan'].batsman_runs.count() , \n",
    "             \n",
    "             100 *     virat_df[virat_df.bowler == 'Imran Tahir'].batsman_runs.sum() \n",
    "             / virat_df[virat_df.bowler == 'Imran Tahir'].batsman_runs.count() , \n",
    "            \n",
    "             100 *     virat_df[virat_df.bowler == 'K Rabada'].batsman_runs.sum() \n",
    "             / virat_df[virat_df.bowler == 'K Rabada'].batsman_runs.count()\n",
    "            )\n",
    "\n",
    "virat_sr"
   ]
  },
  {
   "cell_type": "code",
   "execution_count": 1054,
   "metadata": {},
   "outputs": [
    {
     "data": {
      "image/png": "[encoded data removed]",
      "text/plain": [
       "<Figure size 432x288 with 1 Axes>"
      ]
     },
     "metadata": {
      "needs_background": "light"
     },
     "output_type": "display_data"
    },
    {
     "data": {
      "image/png": "[encoded data removed]",
      "text/plain": [
       "<Figure size 432x288 with 1 Axes>"
      ]
     },
     "metadata": {
      "needs_background": "light"
     },
     "output_type": "display_data"
    }
   ],
   "source": [
    "# Some Visualization \n",
    "# This cannot be a exact comparative chart, since the bowlers are not all the same\n",
    "\n",
    "warner_X = ['Chahal','Bumrah','Bravo','Tahir','McClenaghan', 'Rabada']\n",
    "warner_X_axis = np.arange(len(warner_X))\n",
    "\n",
    "\n",
    "plt.bar(warner_X_axis - 0.1, warner_sr, 0.2)\n",
    "  \n",
    "plt.xticks(warner_X_axis, warner_X)\n",
    "plt.xlabel(\"Bowlers\")\n",
    "plt.ylabel(\"Warner S/R\")\n",
    "plt.title(\"S/R Comparison\")\n",
    "plt.show()\n",
    "\n",
    "virat_X = ['Bumrah','Bhuvi','Sandeep','Rashid','Tahir', 'Rabada']\n",
    "virat_X_axis = np.arange(len(virat_X))\n",
    "  \n",
    "plt.bar(virat_X_axis - 0.1, virat_sr, 0.2)\n",
    "  \n",
    "plt.xticks(virat_X_axis, virat_X)\n",
    "plt.xlabel(\"Bowlers\")\n",
    "plt.ylabel(\"Virat S/R\")\n",
    "plt.title(\"S/R Comparison\")\n",
    "plt.show()"
   ]
  },
  {
   "cell_type": "markdown",
   "metadata": {},
   "source": [
    "### Boundary and Dot Ball Percentage in each match phase"
   ]
  },
  {
   "cell_type": "code",
   "execution_count": 1055,
   "metadata": {},
   "outputs": [
    {
     "data": {
      "text/plain": [
       "Index(['id', 'inning', 'over', 'ball', 'batsman', 'non_striker', 'bowler',\n",
       "       'batsman_runs', 'is_wicket', 'dismissal_kind', 'player_dismissed',\n",
       "       'batting_team', 'bowling_team', 'Bowler Type', 'Bowler Speed',\n",
       "       'Batsman Type'],\n",
       "      dtype='object')"
      ]
     },
     "execution_count": 1055,
     "metadata": {},
     "output_type": "execute_result"
    }
   ],
   "source": [
    "df.columns"
   ]
  },
  {
   "cell_type": "code",
   "execution_count": 1056,
   "metadata": {},
   "outputs": [
    {
     "data": {
      "text/plain": [
       "268"
      ]
     },
     "execution_count": 1056,
     "metadata": {},
     "output_type": "execute_result"
    }
   ],
   "source": [
    "# Warner Boundary Balls in first 6 overs\n",
    "warner_df[(warner_df.over < 6) & ((warner_df.batsman_runs == 4) | (warner_df.batsman_runs == 6))].ball.count() "
   ]
  },
  {
   "cell_type": "code",
   "execution_count": 1057,
   "metadata": {},
   "outputs": [
    {
     "data": {
      "text/plain": [
       "1244"
      ]
     },
     "execution_count": 1057,
     "metadata": {},
     "output_type": "execute_result"
    }
   ],
   "source": [
    "# Warner Total Balls faced in first 6 overs\n",
    "warner_df[(warner_df.over < 6)].ball.count() "
   ]
  },
  {
   "cell_type": "code",
   "execution_count": 1058,
   "metadata": {},
   "outputs": [
    {
     "data": {
      "text/plain": [
       "(21.543408360128616, 14.225053078556263, 25.53191489361702)"
      ]
     },
     "execution_count": 1058,
     "metadata": {},
     "output_type": "execute_result"
    }
   ],
   "source": [
    "warner_boundary_percentages = (\n",
    "    100 * warner_df[(warner_df.over < 6) & ((warner_df.batsman_runs == 4) | (warner_df.batsman_runs == 6))].ball.count() / \n",
    "                warner_df[(warner_df.over < 6)].ball.count() , \n",
    "    \n",
    "    100 * warner_df[(warner_df.over >= 6) & (warner_df.over < 15) & ((warner_df.batsman_runs == 4) | (warner_df.batsman_runs == 6))].ball.count() / \n",
    "                warner_df[(warner_df.over >= 6) & (warner_df.over < 15)].ball.count(), \n",
    "    \n",
    "    100 * warner_df[(warner_df.over >= 15) & ((warner_df.batsman_runs == 4) | (warner_df.batsman_runs == 6))].ball.count() / \n",
    "                warner_df[(warner_df.over >= 15)].ball.count()\n",
    ")\n",
    "\n",
    "warner_boundary_percentages"
   ]
  },
  {
   "cell_type": "code",
   "execution_count": 1059,
   "metadata": {},
   "outputs": [
    {
     "data": {
      "text/plain": [
       "(17.30175077239959, 11.815812337098176, 24.172185430463575)"
      ]
     },
     "execution_count": 1059,
     "metadata": {},
     "output_type": "execute_result"
    }
   ],
   "source": [
    "virat_boundary_percentages = (\n",
    "    100 * virat_df[(virat_df.over < 6) & ((virat_df.batsman_runs == 4) | (virat_df.batsman_runs == 6))].ball.count() / \n",
    "                virat_df[(virat_df.over < 6)].ball.count() , \n",
    "    \n",
    "    100 * virat_df[(virat_df.over >= 6) & (virat_df.over < 15) & ((virat_df.batsman_runs == 4) | (virat_df.batsman_runs == 6))].ball.count() / \n",
    "                virat_df[(virat_df.over >= 6) & (virat_df.over < 15)].ball.count(), \n",
    "    \n",
    "    100 * virat_df[(virat_df.over >= 15) & ((virat_df.batsman_runs == 4) | (virat_df.batsman_runs == 6))].ball.count() / \n",
    "                virat_df[(virat_df.over >= 15)].ball.count()\n",
    ")\n",
    "\n",
    "virat_boundary_percentages"
   ]
  },
  {
   "cell_type": "code",
   "execution_count": 1060,
   "metadata": {},
   "outputs": [
    {
     "data": {
      "image/png": "[encoded data removed]",
      "text/plain": [
       "<Figure size 432x288 with 1 Axes>"
      ]
     },
     "metadata": {
      "needs_background": "light"
     },
     "output_type": "display_data"
    }
   ],
   "source": [
    "# Some Visualizations \n",
    "\n",
    "X = ['PowerPlay' , 'Middle Overs' , 'Death Overs']\n",
    "X_axis = np.arange(len(X))\n",
    "  \n",
    "plt.bar(X_axis - 0.1, virat_boundary_percentages, 0.2, label = 'Virat')\n",
    "plt.bar(X_axis + 0.1, warner_boundary_percentages, 0.2, label = 'Warner')\n",
    "  \n",
    "plt.xticks(X_axis, X)\n",
    "plt.xlabel(\"Match Phase\")\n",
    "plt.ylabel(\"Boundary Percentage\")\n",
    "plt.title(\"Boundary Percentage Comparison\")\n",
    "plt.legend()\n",
    "plt.show()"
   ]
  },
  {
   "cell_type": "code",
   "execution_count": 1061,
   "metadata": {},
   "outputs": [
    {
     "data": {
      "text/plain": [
       "(43.0064308681672, 26.53927813163482, 26.24113475177305)"
      ]
     },
     "execution_count": 1061,
     "metadata": {},
     "output_type": "execute_result"
    }
   ],
   "source": [
    "warner_dotball_percentages = (\n",
    "    100 * warner_df[(warner_df.over < 6) & (warner_df.batsman_runs == 0)].ball.count() / \n",
    "                warner_df[(warner_df.over < 6)].ball.count() , \n",
    "    \n",
    "    100 * warner_df[(warner_df.over >= 6) & (warner_df.over < 15) & (warner_df.batsman_runs == 0)].ball.count() / \n",
    "                warner_df[(warner_df.over >= 6) & (warner_df.over < 15)].ball.count(), \n",
    "    \n",
    "    100 * warner_df[(warner_df.over >= 15) & (warner_df.batsman_runs == 0)].ball.count() / \n",
    "                warner_df[(warner_df.over >= 15)].ball.count()\n",
    ")\n",
    "\n",
    "warner_dotball_percentages"
   ]
  },
  {
   "cell_type": "code",
   "execution_count": 1063,
   "metadata": {},
   "outputs": [
    {
     "data": {
      "text/plain": [
       "(40.988671472708546, 25.89052997393571, 22.8476821192053)"
      ]
     },
     "execution_count": 1063,
     "metadata": {},
     "output_type": "execute_result"
    }
   ],
   "source": [
    "virat_dotball_percentages = (\n",
    "    100 * virat_df[(virat_df.over < 6) & (virat_df.batsman_runs == 0)].ball.count() / \n",
    "                virat_df[(virat_df.over < 6)].ball.count() , \n",
    "    \n",
    "    100 * virat_df[(virat_df.over >= 6) & (virat_df.over < 15) & (virat_df.batsman_runs == 0)].ball.count() / \n",
    "                virat_df[(virat_df.over >= 6) & (virat_df.over < 15)].ball.count(), \n",
    "    \n",
    "    100 * virat_df[(virat_df.over >= 15) & (virat_df.batsman_runs == 0)].ball.count() / \n",
    "                virat_df[(virat_df.over >= 15)].ball.count()\n",
    ")\n",
    "\n",
    "virat_dotball_percentages"
   ]
  },
  {
   "cell_type": "code",
   "execution_count": 1064,
   "metadata": {},
   "outputs": [
    {
     "data": {
      "image/png": "[encoded data removed]",
      "text/plain": [
       "<Figure size 432x288 with 1 Axes>"
      ]
     },
     "metadata": {
      "needs_background": "light"
     },
     "output_type": "display_data"
    }
   ],
   "source": [
    "# Some Visualizations \n",
    "\n",
    "X = ['PowerPlay' , 'Middle Overs' , 'Death Overs']\n",
    "X_axis = np.arange(len(X))\n",
    "  \n",
    "plt.bar(X_axis - 0.1, virat_dotball_percentages, 0.2, label = 'Virat')\n",
    "plt.bar(X_axis + 0.1, warner_dotball_percentages, 0.2, label = 'Warner')\n",
    "  \n",
    "plt.xticks(X_axis, X)\n",
    "plt.xlabel(\"Match Phase\")\n",
    "plt.ylabel(\"Dotball Percentage\")\n",
    "plt.title(\"Dotball Percentage Comparison\")\n",
    "plt.legend()\n",
    "plt.show()"
   ]
  },
  {
   "cell_type": "markdown",
   "metadata": {},
   "source": [
    "### Scores in each bracket (0-10) (11-20) ... "
   ]
  },
  {
   "cell_type": "code",
   "execution_count": 1065,
   "metadata": {},
   "outputs": [
    {
     "data": {
      "text/plain": [
       "Index(['id', 'inning', 'over', 'ball', 'batsman', 'non_striker', 'bowler',\n",
       "       'batsman_runs', 'is_wicket', 'dismissal_kind', 'player_dismissed',\n",
       "       'batting_team', 'bowling_team', 'Bowler Type', 'Bowler Speed',\n",
       "       'Batsman Type'],\n",
       "      dtype='object')"
      ]
     },
     "execution_count": 1065,
     "metadata": {},
     "output_type": "execute_result"
    }
   ],
   "source": [
    "df.columns"
   ]
  },
  {
   "cell_type": "code",
   "execution_count": 1067,
   "metadata": {},
   "outputs": [
    {
     "data": {
      "text/plain": [
       "id\n",
       "829711    53\n",
       "829719    57\n",
       "829727    21\n",
       "829731    28\n",
       "829743    91\n",
       "Name: batsman_runs, dtype: int64"
      ]
     },
     "execution_count": 1067,
     "metadata": {},
     "output_type": "execute_result"
    }
   ],
   "source": [
    "warner_innings = warner_df.groupby('id').batsman_runs.sum()\n",
    "\n",
    "warner_innings.head()"
   ]
  },
  {
   "cell_type": "code",
   "execution_count": 892,
   "metadata": {},
   "outputs": [
    {
     "data": {
      "text/plain": [
       "(12, 7, 8, 5, 8, 12, 8, 3, 5, 3, 2)"
      ]
     },
     "execution_count": 892,
     "metadata": {},
     "output_type": "execute_result"
    }
   ],
   "source": [
    "warner_score_dist = ( \n",
    "    warner_innings[warner_innings.values <= 10].count() , \n",
    "    warner_innings[(warner_innings.values > 10) & ((warner_innings.values <= 20))].count() , \n",
    "    warner_innings[(warner_innings.values > 20) & ((warner_innings.values <= 30))].count() , \n",
    "    warner_innings[(warner_innings.values > 30) & ((warner_innings.values <= 40))].count() , \n",
    "    warner_innings[(warner_innings.values > 40) & ((warner_innings.values <= 50))].count() , \n",
    "    warner_innings[(warner_innings.values > 50) & ((warner_innings.values <= 60))].count() , \n",
    "    warner_innings[(warner_innings.values > 60) & ((warner_innings.values <= 70))].count() , \n",
    "    warner_innings[(warner_innings.values > 70) & ((warner_innings.values <= 80))].count() , \n",
    "    warner_innings[(warner_innings.values > 80) & ((warner_innings.values <= 90))].count() , \n",
    "    warner_innings[(warner_innings.values > 90) & ((warner_innings.values <= 99))].count() , \n",
    "    warner_innings[warner_innings.values >= 100].count() )\n",
    "\n",
    "warner_score_dist"
   ]
  },
  {
   "cell_type": "code",
   "execution_count": 1068,
   "metadata": {},
   "outputs": [
    {
     "data": {
      "text/plain": [
       "id\n",
       "829713    13\n",
       "829719    41\n",
       "829737    18\n",
       "829745    51\n",
       "829749    62\n",
       "Name: batsman_runs, dtype: int64"
      ]
     },
     "execution_count": 1068,
     "metadata": {},
     "output_type": "execute_result"
    }
   ],
   "source": [
    "virat_innings  = virat_df.groupby('id').batsman_runs.sum()\n",
    "\n",
    "virat_innings.head()"
   ]
  },
  {
   "cell_type": "code",
   "execution_count": 1069,
   "metadata": {},
   "outputs": [
    {
     "data": {
      "text/plain": [
       "(19, 14, 7, 8, 10, 7, 6, 5, 3, 1, 5)"
      ]
     },
     "execution_count": 1069,
     "metadata": {},
     "output_type": "execute_result"
    }
   ],
   "source": [
    "virat_score_dist = ( \n",
    "    virat_innings[virat_innings.values <= 10].count() , \n",
    "    virat_innings[(virat_innings.values > 10) & ((virat_innings.values <= 20))].count() , \n",
    "    virat_innings[(virat_innings.values > 20) & ((virat_innings.values <= 30))].count() , \n",
    "    virat_innings[(virat_innings.values > 30) & ((virat_innings.values <= 40))].count() , \n",
    "    virat_innings[(virat_innings.values > 40) & ((virat_innings.values <= 50))].count() , \n",
    "    virat_innings[(virat_innings.values > 50) & ((virat_innings.values <= 60))].count() , \n",
    "    virat_innings[(virat_innings.values > 60) & ((virat_innings.values <= 70))].count() , \n",
    "    virat_innings[(virat_innings.values > 70) & ((virat_innings.values <= 80))].count() , \n",
    "    virat_innings[(virat_innings.values > 80) & ((virat_innings.values <= 90))].count() , \n",
    "    virat_innings[(virat_innings.values > 90) & ((virat_innings.values <= 99))].count() , \n",
    "    virat_innings[virat_scores.values >= 100].count() )\n",
    "\n",
    "virat_score_dist"
   ]
  },
  {
   "cell_type": "code",
   "execution_count": 1070,
   "metadata": {},
   "outputs": [
    {
     "data": {
      "image/png": "[encoded data removed]",
      "text/plain": [
       "<Figure size 1080x216 with 1 Axes>"
      ]
     },
     "metadata": {
      "needs_background": "light"
     },
     "output_type": "display_data"
    }
   ],
   "source": [
    "# Some Visualizations \n",
    "\n",
    "X = ['0-10' , '11-20' , '21-30' ,'31-40' ,'41-50' ,'51-60' ,'61-70' ,'71-80' ,'81-90' ,'91-99' , '100+']\n",
    "X_axis = np.arange(len(X))\n",
    "\n",
    "plt.figure(figsize=(15, 3))\n",
    "\n",
    "plt.bar(X_axis - 0.1, virat_score_dist, 0.2, label = 'Virat')\n",
    "plt.bar(X_axis + 0.1, warner_score_dist, 0.2, label = 'Warner')\n",
    "\n",
    "\n",
    "plt.xticks(X_axis, X)\n",
    "plt.xlabel(\"Runs Bracket\")\n",
    "plt.ylabel(\"Number of Innings\")\n",
    "plt.title(\"Number of Innings in each Runs Bracket\")\n",
    "plt.legend()\n",
    "plt.show()"
   ]
  },
  {
   "cell_type": "markdown",
   "metadata": {},
   "source": [
    "### Comparing Virat's 100 (58) with Warner's 100(55) "
   ]
  },
  {
   "cell_type": "code",
   "execution_count": 1071,
   "metadata": {},
   "outputs": [],
   "source": [
    "# Match Id - 1175366 \n",
    "# SRH vs RCB (https://www.espncricinfo.com/series/ipl-2019-1165643/\n",
    "# sunrisers-hyderabad-vs-royal-challengers-bangalore-11th-match-1175366/full-scorecard)\n",
    "# Warner 100(55)\n",
    "\n",
    "# Match Id 1178410 \n",
    "# RCB vs KKR (https://www.espncricinfo.com/series/ipl-2019-1165643/\n",
    "# kolkata-knight-riders-vs-royal-challengers-bangalore-35th-match-1178410/full-scorecard)\n",
    "# Virat - 100(58)\n",
    "\n",
    "# Comparing the scores two batsmen during the same points in their innings"
   ]
  },
  {
   "cell_type": "code",
   "execution_count": 1072,
   "metadata": {},
   "outputs": [
    {
     "data": {
      "text/plain": [
       "array([  4,   5,   6,   7,   8,   8,  14,  15,  19,  25,  27,  29,  30,\n",
       "        32,  33,  37,  37,  43,  43,  43,  44,  46,  46,  48,  50,  54,\n",
       "        55,  56,  57,  58,  59,  60,  61,  63,  64,  66,  66,  67,  68,\n",
       "        69,  70,  72,  73,  79,  81,  81,  83,  84,  86,  92,  94,  95,\n",
       "        96,  96, 100], dtype=int64)"
      ]
     },
     "execution_count": 1072,
     "metadata": {},
     "output_type": "execute_result"
    }
   ],
   "source": [
    "# warner_srs = ( 100 * warner_df[warner_df.id == 1175366].batsman_runs.cumsum() /\n",
    "#              warner_df[warner_df.id == 1175366].batsman_runs.expanding().count())\n",
    "\n",
    "warner_srs = warner_df[warner_df.id == 1175366].batsman_runs.cumsum() \n",
    "              \n",
    "(warner_srs.values)"
   ]
  },
  {
   "cell_type": "code",
   "execution_count": 1073,
   "metadata": {},
   "outputs": [
    {
     "data": {
      "text/plain": [
       "array([  1,   3,   3,   4,   5,   6,  10,  11,  13,  13,  13,  13,  17,\n",
       "        18,  19,  23,  23,  24,  26,  26,  27,  31,  31,  35,  36,  36,\n",
       "        37,  38,  39,  41,  41,  41,  47,  48,  49,  50,  51,  52,  53,\n",
       "        54,  58,  59,  63,  65,  69,  75,  76,  77,  83,  84,  86,  92,\n",
       "        96,  98,  99, 100, 100, 100], dtype=int64)"
      ]
     },
     "execution_count": 1073,
     "metadata": {},
     "output_type": "execute_result"
    }
   ],
   "source": [
    "# virat_srs = ( 100 * virat_df[virat_df.id == 1178410].batsman_runs.cumsum() / \n",
    "#              virat_df[virat_df.id == 1178410].batsman_runs.expanding().count() )\n",
    "\n",
    "virat_srs = virat_df[virat_df.id == 1178410].batsman_runs.cumsum() \n",
    "             \n",
    "virat_srs.values"
   ]
  },
  {
   "cell_type": "code",
   "execution_count": 1074,
   "metadata": {},
   "outputs": [
    {
     "data": {
      "image/png": "[encoded data removed]",
      "text/plain": [
       "<Figure size 1080x288 with 1 Axes>"
      ]
     },
     "metadata": {
      "needs_background": "light"
     },
     "output_type": "display_data"
    }
   ],
   "source": [
    "# Some Visualizations \n",
    "\n",
    "plt.figure(figsize=(15, 4))\n",
    "plt.plot(virat_srs.values,label='Virat')\n",
    "plt.plot(warner_srs.values, label='Warner')\n",
    "plt.xlabel(\"Balls Faced\")\n",
    "plt.ylabel(\"Score\")\n",
    "\n",
    "plt.title(\"Scoring Rate Comparison\")\n",
    "plt.legend()\n",
    "plt.show()"
   ]
  },
  {
   "cell_type": "markdown",
   "metadata": {},
   "source": [
    "### Fin."
   ]
  },
  {
   "cell_type": "code",
   "execution_count": 1075,
   "metadata": {},
   "outputs": [
    {
     "data": {
      "text/html": [
       "<div>\n",
       "<style scoped>\n",
       "    .dataframe tbody tr th:only-of-type {\n",
       "        vertical-align: middle;\n",
       "    }\n",
       "\n",
       "    .dataframe tbody tr th {\n",
       "        vertical-align: top;\n",
       "    }\n",
       "\n",
       "    .dataframe thead th {\n",
       "        text-align: right;\n",
       "    }\n",
       "</style>\n",
       "<table border=\"1\" class=\"dataframe\">\n",
       "  <thead>\n",
       "    <tr style=\"text-align: right;\">\n",
       "      <th></th>\n",
       "      <th>id</th>\n",
       "      <th>inning</th>\n",
       "      <th>over</th>\n",
       "      <th>ball</th>\n",
       "      <th>batsman</th>\n",
       "      <th>non_striker</th>\n",
       "      <th>bowler</th>\n",
       "      <th>batsman_runs</th>\n",
       "      <th>is_wicket</th>\n",
       "      <th>dismissal_kind</th>\n",
       "      <th>player_dismissed</th>\n",
       "      <th>batting_team</th>\n",
       "      <th>bowling_team</th>\n",
       "      <th>Bowler Type</th>\n",
       "      <th>Bowler Speed</th>\n",
       "      <th>Batsman Type</th>\n",
       "    </tr>\n",
       "  </thead>\n",
       "  <tbody>\n",
       "    <tr>\n",
       "      <th>0</th>\n",
       "      <td>829705</td>\n",
       "      <td>2</td>\n",
       "      <td>0</td>\n",
       "      <td>2</td>\n",
       "      <td>G Gambhir</td>\n",
       "      <td>RV Uthappa</td>\n",
       "      <td>SL Malinga</td>\n",
       "      <td>0</td>\n",
       "      <td>0</td>\n",
       "      <td>NaN</td>\n",
       "      <td>NaN</td>\n",
       "      <td>Kolkata Knight Riders</td>\n",
       "      <td>Mumbai Indians</td>\n",
       "      <td>Right arm pace</td>\n",
       "      <td>Fast</td>\n",
       "      <td>Left</td>\n",
       "    </tr>\n",
       "    <tr>\n",
       "      <th>1</th>\n",
       "      <td>829705</td>\n",
       "      <td>2</td>\n",
       "      <td>0</td>\n",
       "      <td>1</td>\n",
       "      <td>RV Uthappa</td>\n",
       "      <td>G Gambhir</td>\n",
       "      <td>SL Malinga</td>\n",
       "      <td>1</td>\n",
       "      <td>0</td>\n",
       "      <td>NaN</td>\n",
       "      <td>NaN</td>\n",
       "      <td>Kolkata Knight Riders</td>\n",
       "      <td>Mumbai Indians</td>\n",
       "      <td>Right arm pace</td>\n",
       "      <td>Fast</td>\n",
       "      <td>NaN</td>\n",
       "    </tr>\n",
       "    <tr>\n",
       "      <th>2</th>\n",
       "      <td>829705</td>\n",
       "      <td>2</td>\n",
       "      <td>0</td>\n",
       "      <td>6</td>\n",
       "      <td>RV Uthappa</td>\n",
       "      <td>G Gambhir</td>\n",
       "      <td>SL Malinga</td>\n",
       "      <td>0</td>\n",
       "      <td>0</td>\n",
       "      <td>NaN</td>\n",
       "      <td>NaN</td>\n",
       "      <td>Kolkata Knight Riders</td>\n",
       "      <td>Mumbai Indians</td>\n",
       "      <td>Right arm pace</td>\n",
       "      <td>Fast</td>\n",
       "      <td>NaN</td>\n",
       "    </tr>\n",
       "    <tr>\n",
       "      <th>3</th>\n",
       "      <td>829705</td>\n",
       "      <td>2</td>\n",
       "      <td>0</td>\n",
       "      <td>7</td>\n",
       "      <td>RV Uthappa</td>\n",
       "      <td>G Gambhir</td>\n",
       "      <td>SL Malinga</td>\n",
       "      <td>0</td>\n",
       "      <td>0</td>\n",
       "      <td>NaN</td>\n",
       "      <td>NaN</td>\n",
       "      <td>Kolkata Knight Riders</td>\n",
       "      <td>Mumbai Indians</td>\n",
       "      <td>Right arm pace</td>\n",
       "      <td>Fast</td>\n",
       "      <td>NaN</td>\n",
       "    </tr>\n",
       "    <tr>\n",
       "      <th>4</th>\n",
       "      <td>829705</td>\n",
       "      <td>2</td>\n",
       "      <td>1</td>\n",
       "      <td>1</td>\n",
       "      <td>G Gambhir</td>\n",
       "      <td>RV Uthappa</td>\n",
       "      <td>R Vinay Kumar</td>\n",
       "      <td>0</td>\n",
       "      <td>0</td>\n",
       "      <td>NaN</td>\n",
       "      <td>NaN</td>\n",
       "      <td>Kolkata Knight Riders</td>\n",
       "      <td>Mumbai Indians</td>\n",
       "      <td>Right arm pace</td>\n",
       "      <td>Medium</td>\n",
       "      <td>NaN</td>\n",
       "    </tr>\n",
       "  </tbody>\n",
       "</table>\n",
       "</div>"
      ],
      "text/plain": [
       "       id  inning  over  ball     batsman non_striker         bowler  \\\n",
       "0  829705       2     0     2   G Gambhir  RV Uthappa     SL Malinga   \n",
       "1  829705       2     0     1  RV Uthappa   G Gambhir     SL Malinga   \n",
       "2  829705       2     0     6  RV Uthappa   G Gambhir     SL Malinga   \n",
       "3  829705       2     0     7  RV Uthappa   G Gambhir     SL Malinga   \n",
       "4  829705       2     1     1   G Gambhir  RV Uthappa  R Vinay Kumar   \n",
       "\n",
       "   batsman_runs  is_wicket dismissal_kind player_dismissed  \\\n",
       "0             0          0            NaN              NaN   \n",
       "1             1          0            NaN              NaN   \n",
       "2             0          0            NaN              NaN   \n",
       "3             0          0            NaN              NaN   \n",
       "4             0          0            NaN              NaN   \n",
       "\n",
       "            batting_team    bowling_team     Bowler Type Bowler Speed  \\\n",
       "0  Kolkata Knight Riders  Mumbai Indians  Right arm pace         Fast   \n",
       "1  Kolkata Knight Riders  Mumbai Indians  Right arm pace         Fast   \n",
       "2  Kolkata Knight Riders  Mumbai Indians  Right arm pace         Fast   \n",
       "3  Kolkata Knight Riders  Mumbai Indians  Right arm pace         Fast   \n",
       "4  Kolkata Knight Riders  Mumbai Indians  Right arm pace       Medium   \n",
       "\n",
       "  Batsman Type  \n",
       "0         Left  \n",
       "1          NaN  \n",
       "2          NaN  \n",
       "3          NaN  \n",
       "4          NaN  "
      ]
     },
     "execution_count": 1075,
     "metadata": {},
     "output_type": "execute_result"
    }
   ],
   "source": [
    "df.head()"
   ]
  },
  {
   "cell_type": "code",
   "execution_count": 1076,
   "metadata": {},
   "outputs": [
    {
     "data": {
      "text/plain": [
       "array([2, 1], dtype=int64)"
      ]
     },
     "execution_count": 1076,
     "metadata": {},
     "output_type": "execute_result"
    }
   ],
   "source": [
    "df.inning.unique()"
   ]
  },
  {
   "cell_type": "code",
   "execution_count": null,
   "metadata": {},
   "outputs": [],
   "source": []
  }
 ],
 "metadata": {
  "kernelspec": {
   "display_name": "Python 3",
   "language": "python",
   "name": "python3"
  },
  "language_info": {
   "codemirror_mode": {
    "name": "ipython",
    "version": 3
   },
   "file_extension": ".py",
   "mimetype": "text/x-python",
   "name": "python",
   "nbconvert_exporter": "python",
   "pygments_lexer": "ipython3",
   "version": "3.8.5"
  }
 },
 "nbformat": 4,
 "nbformat_minor": 4
}
